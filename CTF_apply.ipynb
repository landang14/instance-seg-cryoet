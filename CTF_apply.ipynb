{
 "cells": [
  {
   "cell_type": "code",
   "execution_count": 3,
   "id": "skilled-saver",
   "metadata": {},
   "outputs": [],
   "source": [
    "from EMAN2 import *\n",
    "import numpy as np"
   ]
  },
  {
   "cell_type": "code",
   "execution_count": 4,
   "id": "induced-repair",
   "metadata": {},
   "outputs": [],
   "source": [
    "import matplotlib.pyplot as plt"
   ]
  },
  {
   "cell_type": "code",
   "execution_count": 3,
   "id": "addressed-energy",
   "metadata": {},
   "outputs": [],
   "source": [
    "ctf=EMAN2Ctf()\n",
    "ctf.defocus=1.0\n",
    "ctf.bfactor=300.0\n",
    "ctf.voltage=200\n",
    "ctf.apix=4.94\n",
    "ctf.cs=4.1\n",
    "ctf.ac=0.05"
   ]
  },
  {
   "cell_type": "code",
   "execution_count": 4,
   "id": "protecting-roller",
   "metadata": {},
   "outputs": [],
   "source": [
    "proj_file = '3WJ_res30_apix494_center_projs.hdf'\n",
    "outfile='3WJ_res30_del1_projs_ctf.hdf'"
   ]
  },
  {
   "cell_type": "code",
   "execution_count": 5,
   "id": "wrapped-documentation",
   "metadata": {},
   "outputs": [],
   "source": [
    "#ctf_l=[]\n",
    "for i in range(20653):\n",
    "    im1=EMData(proj_file,i)\n",
    "    im1_f=im1.do_fft()\n",
    "    ctfmul=im1_f.copy()\n",
    "    ctf.compute_2d_complex(ctfmul,Ctf.CtfType.CTF_AMP)\n",
    "    im1_f.mult(ctfmul)\n",
    "    im2=im1_f.do_ift()\n",
    "    im2.mult(5.0)\n",
    "    im2.write_image(outfile,-1)"
   ]
  },
  {
   "cell_type": "code",
   "execution_count": 16,
   "id": "alive-sapphire",
   "metadata": {},
   "outputs": [],
   "source": [
    "im1_f=im1.do_fft()\n",
    "ctfmul=im1_f.copy()\n",
    "ctf.compute_2d_complex(ctfmul,Ctf.CtfType.CTF_AMP)\n",
    "ctfsgn=im1_f.copy()\n",
    "ctf.compute_2d_complex(ctfsgn,Ctf.CtfType.CTF_SIGN)\n",
    "im1_f.mult(ctfmul)\n",
    "im2=im1_f.do_ift()\n",
    "im2.mult(5.0)\n",
    "im1_f.mult(ctfsgn)\n",
    "im3=im1_f.do_ift()\n",
    "im3.mult(5.0)"
   ]
  },
  {
   "cell_type": "code",
   "execution_count": 22,
   "id": "developmental-reserve",
   "metadata": {},
   "outputs": [],
   "source": [
    "for i in [im1,im2,im3]:\n",
    "    i.write_image('hahaha.hdf',-1)"
   ]
  },
  {
   "cell_type": "code",
   "execution_count": null,
   "id": "copyrighted-electricity",
   "metadata": {},
   "outputs": [],
   "source": [
    "l = EMData()\n"
   ]
  },
  {
   "cell_type": "code",
   "execution_count": 5,
   "id": "powered-lighting",
   "metadata": {},
   "outputs": [
    {
     "data": {
      "text/plain": [
       "<matplotlib.image.AxesImage at 0x11ef9eeb0>"
      ]
     },
     "execution_count": 5,
     "metadata": {},
     "output_type": "execute_result"
    },
    {
     "data": {
      "image/png": "[encoded data removed]",
      "text/plain": [
       "<Figure size 432x288 with 1 Axes>"
      ]
     },
     "metadata": {
      "needs_background": "light"
     },
     "output_type": "display_data"
    }
   ],
   "source": [
    "a = test_image(0)\n",
    "plt.imshow(to_numpy(a),cmap='gray')"
   ]
  },
  {
   "cell_type": "code",
   "execution_count": 6,
   "id": "6851125c-3cef-4d28-807d-720ca183c6a5",
   "metadata": {},
   "outputs": [],
   "source": [
    "a.write_image('test_im_0.hdf')"
   ]
  },
  {
   "cell_type": "code",
   "execution_count": 7,
   "id": "1de611c5-32a2-49ed-ad91-236409237297",
   "metadata": {},
   "outputs": [],
   "source": [
    "b = from_numpy(to_numpy(a)*-1)\n",
    "b.write_image('test_im_0.hdf',-1)"
   ]
  },
  {
   "cell_type": "code",
   "execution_count": 8,
   "id": "65cd3dd4-517c-4cf9-8064-c0394d33dfb0",
   "metadata": {},
   "outputs": [
    {
     "data": {
      "text/plain": [
       "(128, 128)"
      ]
     },
     "execution_count": 8,
     "metadata": {},
     "output_type": "execute_result"
    }
   ],
   "source": [
    "to_numpy(a).shape"
   ]
  },
  {
   "cell_type": "code",
   "execution_count": 9,
   "id": "3a361866-2698-4f71-92fa-d774bcc8bc51",
   "metadata": {},
   "outputs": [],
   "source": [
    "a = {'s':1, 'k':3}"
   ]
  },
  {
   "cell_type": "code",
   "execution_count": 11,
   "id": "c7e4b6d3-c51e-4168-bb75-3a09bbb84cc7",
   "metadata": {},
   "outputs": [
    {
     "data": {
      "text/plain": [
       "2"
      ]
     },
     "execution_count": 11,
     "metadata": {},
     "output_type": "execute_result"
    }
   ],
   "source": [
    "len(a)"
   ]
  },
  {
   "cell_type": "code",
   "execution_count": 14,
   "id": "b594c0f8-1d04-48fc-9d1f-32fe5c0d5bb8",
   "metadata": {},
   "outputs": [
    {
     "name": "stdout",
     "output_type": "stream",
     "text": [
      "Class name s exists\n",
      "Class name k exists\n"
     ]
    }
   ],
   "source": [
    "for i in ['a','s','k']:\n",
    "    try:\n",
    "        a[i]\n",
    "        print(\"Class name\",i,\"exists\")\n",
    "    except:\n",
    "        new_index = len(a)\n",
    "        a[i] = len(a)\n",
    "    "
   ]
  },
  {
   "cell_type": "code",
   "execution_count": 15,
   "id": "c6e33e9e-1b6d-43a3-95d0-4d64847a21ec",
   "metadata": {},
   "outputs": [
    {
     "data": {
      "text/plain": [
       "{'s': 1, 'k': 3, 'a': 2}"
      ]
     },
     "execution_count": 15,
     "metadata": {},
     "output_type": "execute_result"
    }
   ],
   "source": [
    "a"
   ]
  },
  {
   "cell_type": "code",
   "execution_count": 16,
   "id": "cc487849-80e3-4321-a892-8ad4533ad228",
   "metadata": {},
   "outputs": [],
   "source": []
  },
  {
   "cell_type": "code",
   "execution_count": 21,
   "id": "8172b900-5d64-4c3a-9c1c-5e410e02c093",
   "metadata": {},
   "outputs": [
    {
     "ename": "RuntimeError",
     "evalue": "",
     "output_type": "error",
     "traceback": [
      "\u001b[0;31m---------------------------------------------------------------------------\u001b[0m",
      "\u001b[0;31mRuntimeError\u001b[0m                              Traceback (most recent call last)",
      "Input \u001b[0;32mIn [21]\u001b[0m, in \u001b[0;36m<module>\u001b[0;34m\u001b[0m\n\u001b[1;32m      1\u001b[0m \u001b[38;5;28;01mfor\u001b[39;00m i \u001b[38;5;129;01min\u001b[39;00m \u001b[38;5;28mrange\u001b[39m(\u001b[38;5;241m3\u001b[39m):\n\u001b[1;32m      2\u001b[0m     a \u001b[38;5;241m=\u001b[39m test_image(\u001b[38;5;241m0\u001b[39m,size\u001b[38;5;241m=\u001b[39m(\u001b[38;5;241m920\u001b[39m,\u001b[38;5;241m920\u001b[39m))\n\u001b[0;32m----> 3\u001b[0m     \u001b[43ma\u001b[49m\u001b[38;5;241;43m.\u001b[39;49m\u001b[43mwrite_image\u001b[49m\u001b[43m(\u001b[49m\u001b[38;5;124;43m'\u001b[39;49m\u001b[38;5;124;43m./Downloads/projects/test_GUI_2/test_image_stack.hdf\u001b[39;49m\u001b[38;5;124;43m'\u001b[39;49m\u001b[43m,\u001b[49m\u001b[43m \u001b[49m\u001b[38;5;241;43m-\u001b[39;49m\u001b[38;5;241;43m1\u001b[39;49m\u001b[43m)\u001b[49m\n",
      "File \u001b[0;32m~/miniconda3/envs/eman2/lib/python3.9/site-packages/EMAN2.py:3006\u001b[0m, in \u001b[0;36mdb_write_image\u001b[0;34m(self, fsp, *parms)\u001b[0m\n\u001b[1;32m   3002\u001b[0m \tidx \u001b[38;5;241m=\u001b[39m parms[\u001b[38;5;241m0\u001b[39m] \u001b[38;5;28;01mif\u001b[39;00m parms \u001b[38;5;28;01melse\u001b[39;00m \u001b[38;5;241m0\u001b[39m\n\u001b[1;32m   3004\u001b[0m \t\u001b[38;5;28;01mreturn\u001b[39;00m \u001b[38;5;28mself\u001b[39m\u001b[38;5;241m.\u001b[39mwrite_compressed(fsp, idx)\n\u001b[0;32m-> 3006\u001b[0m \u001b[38;5;28;01mreturn\u001b[39;00m \u001b[38;5;28;43mself\u001b[39;49m\u001b[38;5;241;43m.\u001b[39;49m\u001b[43mwrite_image_c\u001b[49m\u001b[43m(\u001b[49m\u001b[43mfsp\u001b[49m\u001b[43m,\u001b[49m\u001b[43m \u001b[49m\u001b[38;5;241;43m*\u001b[39;49m\u001b[43mparms\u001b[49m\u001b[43m)\u001b[49m\n",
      "\u001b[0;31mRuntimeError\u001b[0m: "
     ]
    }
   ],
   "source": [
    "for i in range(3):\n",
    "    a = test_image(0,size=(920,920))\n",
    "    a.write_image('./Downloads/projects/test_GUI_2/test_image_stack.hdf', -1)"
   ]
  },
  {
   "cell_type": "code",
   "execution_count": 22,
   "id": "070af7a6-dd59-4cac-b0cf-3150d86c7a01",
   "metadata": {},
   "outputs": [],
   "source": [
    "from EMAN2 import *\n",
    "import numpy as np\n",
    "import tensorflow as tf"
   ]
  },
  {
   "cell_type": "code",
   "execution_count": 24,
   "id": "8e21b0ee-c4f0-45f1-9fef-825691c73801",
   "metadata": {},
   "outputs": [],
   "source": [
    "a = EMData(5,5,1)\n",
    "a.to_zero()"
   ]
  },
  {
   "cell_type": "code",
   "execution_count": 25,
   "id": "86f09b46-5c6f-4388-869f-ca94d4813b2b",
   "metadata": {},
   "outputs": [],
   "source": [
    "n = a.numpy()"
   ]
  },
  {
   "cell_type": "code",
   "execution_count": 29,
   "id": "3aee6490-b3a2-4f5a-944d-363608a7b9fe",
   "metadata": {},
   "outputs": [],
   "source": [
    "n[3,0] = 5\n",
    "n[2,2] = 4"
   ]
  },
  {
   "cell_type": "code",
   "execution_count": 28,
   "id": "9523ee3f-5f84-4abe-9391-be6eed05bc6e",
   "metadata": {},
   "outputs": [
    {
     "data": {
      "text/plain": [
       "array([[0., 0., 0., 0., 0.],\n",
       "       [0., 0., 0., 0., 0.],\n",
       "       [0., 0., 0., 0., 0.],\n",
       "       [5., 0., 4., 0., 0.],\n",
       "       [0., 0., 0., 0., 0.]], dtype=float32)"
      ]
     },
     "execution_count": 28,
     "metadata": {},
     "output_type": "execute_result"
    }
   ],
   "source": [
    "n"
   ]
  },
  {
   "cell_type": "code",
   "execution_count": 30,
   "id": "96e778f8-bf8c-48b9-b746-e77868c1615a",
   "metadata": {},
   "outputs": [
    {
     "data": {
      "text/plain": [
       "4.0"
      ]
     },
     "execution_count": 30,
     "metadata": {},
     "output_type": "execute_result"
    }
   ],
   "source": [
    "a[2,2]"
   ]
  },
  {
   "cell_type": "code",
   "execution_count": 39,
   "id": "22cc84fa-fd0e-44d3-93ae-a586411c9022",
   "metadata": {},
   "outputs": [],
   "source": [
    "m = to_numpy(a)"
   ]
  },
  {
   "cell_type": "code",
   "execution_count": 41,
   "id": "b1fd8240-65a7-4e8d-8089-3b8ad3c111df",
   "metadata": {},
   "outputs": [],
   "source": [
    "m[1,1] = 7"
   ]
  },
  {
   "cell_type": "code",
   "execution_count": 42,
   "id": "79b66395-6d92-4441-aba9-daa44d714916",
   "metadata": {},
   "outputs": [
    {
     "data": {
      "text/plain": [
       "array([[0., 0., 0., 0., 0.],\n",
       "       [0., 7., 0., 0., 0.],\n",
       "       [0., 0., 4., 0., 0.],\n",
       "       [5., 0., 4., 0., 0.],\n",
       "       [0., 0., 0., 0., 0.]], dtype=float32)"
      ]
     },
     "execution_count": 42,
     "metadata": {},
     "output_type": "execute_result"
    }
   ],
   "source": [
    "m"
   ]
  },
  {
   "cell_type": "code",
   "execution_count": 43,
   "id": "0822bee1-69e1-4669-9219-17afe34fd173",
   "metadata": {},
   "outputs": [
    {
     "data": {
      "text/plain": [
       "array([[0., 0., 0., 0., 0.],\n",
       "       [0., 7., 0., 0., 0.],\n",
       "       [0., 0., 4., 0., 0.],\n",
       "       [5., 0., 4., 0., 0.],\n",
       "       [0., 0., 0., 0., 0.]], dtype=float32)"
      ]
     },
     "execution_count": 43,
     "metadata": {},
     "output_type": "execute_result"
    }
   ],
   "source": [
    "n"
   ]
  },
  {
   "cell_type": "code",
   "execution_count": null,
   "id": "e70a14a2-abde-49f1-b9c1-77f38e845acf",
   "metadata": {},
   "outputs": [],
   "source": []
  }
 ],
 "metadata": {
  "kernelspec": {
   "display_name": "Python 3 (ipykernel)",
   "language": "python",
   "name": "python3"
  },
  "language_info": {
   "codemirror_mode": {
    "name": "ipython",
    "version": 3
   },
   "file_extension": ".py",
   "mimetype": "text/x-python",
   "name": "python",
   "nbconvert_exporter": "python",
   "pygments_lexer": "ipython3",
   "version": "3.9.10"
  }
 },
 "nbformat": 4,
 "nbformat_minor": 5
}
