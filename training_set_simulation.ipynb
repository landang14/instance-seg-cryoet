{
 "cells": [
  {
   "cell_type": "code",
   "execution_count": 1,
   "id": "80f12e2f-25b5-46e1-86eb-31b79e84ed70",
   "metadata": {},
   "outputs": [],
   "source": [
    "import numpy as np\n",
    "import os\n",
    "import matplotlib.pyplot as plt\n",
    "from EMAN2 import *"
   ]
  },
  {
   "cell_type": "code",
   "execution_count": 40,
   "id": "7a04f27f-77ec-445a-8622-6712e1fba02f",
   "metadata": {},
   "outputs": [
    {
     "name": "stderr",
     "output_type": "stream",
     "text": [
      "/var/folders/fn/nlgx_qdn2r19y90q6x372b3c0000gn/T/ipykernel_8498/3581288061.py:19: FutureWarning: The `skimage.morphology.selem` module is deprecated and will be removed in scikit-image 1.0 (`skimage.morphology.selem` has been moved to `skimage.morphology.footprints`).\n",
      "  from skimage.morphology.selem import disk\n"
     ]
    }
   ],
   "source": [
    "from __future__ import print_function\n",
    "from skimage.transform import resize\n",
    "from skimage.io import imsave\n",
    "from skimage.segmentation import mark_boundaries\n",
    "import tensorflow as tf\n",
    "from tensorflow.keras.layers import Input, Conv2D, MaxPooling2D,Flatten,Dense,Dropout,BatchNormalization\n",
    "from tensorflow.keras.models import Model\n",
    "from tensorflow.keras.layers import Input, concatenate, Conv2D, MaxPooling2D, Conv2DTranspose\n",
    "from tensorflow.keras.optimizers import Adam, SGD\n",
    "from tensorflow.keras.callbacks import ModelCheckpoint\n",
    "from tensorflow.keras import backend as K\n",
    "from skimage.exposure import rescale_intensity\n",
    "from tensorflow.keras.callbacks import History\n",
    "from skimage import io\n",
    "import matplotlib\n",
    "import matplotlib.patches as mpatches\n",
    "from skimage.measure import regionprops\n",
    "from skimage.color import label2rgb\n",
    "from skimage.morphology.selem import disk\n",
    "import cv2\n",
    "from skimage.filters import gaussian\n",
    "from skimage.feature import peak_local_max, blob_log\n",
    "#from scipy import ndimage\n",
    "from skimage import morphology\n",
    "from scipy import ndimage as ndi\n",
    "from skimage.segmentation import watershed\n",
    "from skimage.feature import peak_local_max\n"
   ]
  },
  {
   "cell_type": "code",
   "execution_count": 79,
   "id": "a35b5f77-0bf2-49d5-a462-4960c2dadac0",
   "metadata": {},
   "outputs": [],
   "source": [
    "label = EMData('membrane_slice128.hdf')\n",
    "data = EMData('slice_128.hdf')\n",
    "background = EMData('background_slice128.hdf')\n"
   ]
  },
  {
   "cell_type": "code",
   "execution_count": 4,
   "id": "36be08c3-23a4-4880-a4fe-4cb4bc1dbcd0",
   "metadata": {},
   "outputs": [],
   "source": [
    "b = a.numpy()"
   ]
  },
  {
   "cell_type": "code",
   "execution_count": 86,
   "id": "20bc2924-1c72-4dcf-bc7b-f0b68f8b3420",
   "metadata": {},
   "outputs": [
    {
     "data": {
      "image/png": "[encoded data removed]",
      "text/plain": [
       "<Figure size 576x288 with 2 Axes>"
      ]
     },
     "metadata": {
      "needs_background": "light"
     },
     "output_type": "display_data"
    }
   ],
   "source": [
    "erosion = morphology.erosion(background.numpy(),disk(5))\n",
    "plot_comparison(background.numpy(),erosion)"
   ]
  },
  {
   "cell_type": "code",
   "execution_count": 87,
   "id": "5e099a5f-e037-4cce-b7a7-6655068e71e4",
   "metadata": {},
   "outputs": [
    {
     "data": {
      "text/plain": [
       "(15201,)"
      ]
     },
     "execution_count": 87,
     "metadata": {},
     "output_type": "execute_result"
    }
   ],
   "source": [
    "c = np.where(erosion>0)\n",
    "c[0].shape"
   ]
  },
  {
   "cell_type": "code",
   "execution_count": 17,
   "id": "4df1cea8-29ae-4472-a729-5265e2d2a63d",
   "metadata": {},
   "outputs": [
    {
     "data": {
      "text/plain": [
       "(0.0, 1000.0)"
      ]
     },
     "execution_count": 17,
     "metadata": {},
     "output_type": "execute_result"
    },
    {
     "data": {
      "image/png": "[encoded data removed]",
      "text/plain": [
       "<Figure size 432x288 with 1 Axes>"
      ]
     },
     "metadata": {
      "needs_background": "light"
     },
     "output_type": "display_data"
    }
   ],
   "source": [
    "plt.scatter(c[1],c[0])\n",
    "plt.xlim(0, 1000)\n",
    "plt.ylim(0, 1000)"
   ]
  },
  {
   "cell_type": "code",
   "execution_count": null,
   "id": "82f0cdc1-4cf6-4971-babc-0c132db59321",
   "metadata": {},
   "outputs": [],
   "source": [
    "a = label.get_clip(Region(119-2,642-2,5,5))\n",
    "d = data.get_clip(Region(119-2,642-2,5,5))\n",
    "#self.annotation=self.full_annotation.get_clip(Region(0,0,0,self.full_data[\"nx\"],self.full_data[\"ny\"],1))\n",
    "plot_comparison(a.numpy(),d.numpy())"
   ]
  },
  {
   "cell_type": "code",
   "execution_count": 91,
   "id": "bb48d572-ba9d-4340-8d80-526f3c7446f9",
   "metadata": {},
   "outputs": [],
   "source": [
    "def create_training_set(data_f,label_f,bg_f,outfile,tile_sz=6,disk_sz=5):\n",
    "    data = EMData(data_f)\n",
    "    label = EMData(label_f)\n",
    "    bg = EMData(bg_f)\n",
    "    erosion = morphology.erosion(bg.numpy(),disk(5))\n",
    "    \n",
    "    coor = np.where(label.numpy()>0)    \n",
    "    for i in range(15,len(coor[0])-15):\n",
    "        x = int(coor[1][i])\n",
    "        y = int(coor[0][i])\n",
    "        d = data.get_clip(Region(x,y,tile_sz,tile_sz))\n",
    "        l = label.get_clip(Region(x,y,tile_sz,tile_sz))\n",
    "        d.write_image(outfile,-1)\n",
    "        l.write_image(outfile,-1)\n",
    "        \n",
    "    coor_back = np.where(erosion>0)\n",
    "    for i in range(100,15000,5):\n",
    "        x = int(coor_back[1][i])\n",
    "        y = int(coor_back[0][i])\n",
    "        d = data.get_clip(Region(x,y,tile_sz,tile_sz))\n",
    "        l = from_numpy(np.zeros((tile_sz,tile_sz)))\n",
    "        d.write_image(outfile,-1)\n",
    "        l.write_image(outfile,-1)"
   ]
  },
  {
   "cell_type": "code",
   "execution_count": 32,
   "id": "b214e3d6-9b95-4e72-95b6-76fa6edf7ea8",
   "metadata": {},
   "outputs": [
    {
     "data": {
      "text/plain": [
       "1333"
      ]
     },
     "execution_count": 32,
     "metadata": {},
     "output_type": "execute_result"
    }
   ],
   "source": [
    "len(c[0])"
   ]
  },
  {
   "cell_type": "code",
   "execution_count": 93,
   "id": "15b97e9c-3232-46d4-82d4-754f296c1437",
   "metadata": {},
   "outputs": [],
   "source": [
    "create_training_set('slice_128.hdf','membrane_slice128.hdf','background_slice128.hdf','membrane_trainset_withbg_6x6.hdf',6)"
   ]
  },
  {
   "cell_type": "code",
   "execution_count": 62,
   "id": "53442ec5-5dec-402e-bdae-7b0ea28e40ee",
   "metadata": {},
   "outputs": [],
   "source": [
    "def load_particles(ptcls,labelshrink=1,ncopy=1, rng=None):\n",
    "    if rng==None:\n",
    "        rng=random\n",
    "    #num=old_div(EMUtil.get_image_count(ptcls),2)\n",
    "    #print(num)\n",
    "    is3d=False\n",
    "    e=EMData(ptcls,0, True)\n",
    "    tsz=max(e[\"nx\"],e[\"ny\"])\n",
    "    \n",
    "    nframe=EMUtil.get_image_count(ptcls)\n",
    "    if nframe==1:\n",
    "        nframe=e[\"nz\"]\n",
    "        if nframe>1:\n",
    "            is3d=True\n",
    "    num = nframe//2\n",
    "    data=[]\n",
    "    label=[]\n",
    "    ntrain=-1\n",
    "    \n",
    "    for i in range(num):\n",
    "        for nc in range(ncopy):\n",
    "            if is3d:\n",
    "                ptl=EMData(ptcls,0, False,Region(0,0,i*2,tsz,tsz,1))\n",
    "            else:\n",
    "                ptl=EMData(ptcls,i*2, False, Region(0,0,tsz,tsz))\n",
    "                           \n",
    "            if ntrain<0 and ptl.get_attr_default(\"valid_set\", 0)==1:\n",
    "                ntrain=len(data)\n",
    "            #ptl.process_inplace(\"threshold.belowtozero\")\n",
    "            if ncopy>1:\n",
    "                tr=Transform()\n",
    "                tr.set_rotation({\"type\":\"2d\",\"alpha\":rng.random()*360.0})\n",
    "                ptl.process_inplace(\"xform\",{\"transform\":tr})\n",
    "            ar=ptl.numpy().copy()\n",
    "            #shp=np.shape(ar)\n",
    "            data.append(ar)\n",
    "            \n",
    "            if is3d:\n",
    "                ptl=EMData(ptcls,0, False,Region(0,0,i*2+1,tsz,tsz,1))\n",
    "            else:\n",
    "                ptl=EMData(ptcls,i*2+1, False, Region(0,0,tsz,tsz))\n",
    "            #ptl.process_inplace(\"threshold.belowtozero\")\n",
    "                           \n",
    "            if ncopy>1:\n",
    "                ptl.process_inplace(\"xform\",{\"transform\":tr})\n",
    "            if labelshrink>1:\n",
    "                ptl.process_inplace(\"math.meanshrink\",{'n':int(labelshrink)})\n",
    "            ar=ptl.numpy().copy()\n",
    "            #shp=np.shape(ar)\n",
    "            label.append(ar)\n",
    "\n",
    "    if ntrain<0: ntrain=len(data)\n",
    "    print(\"{:d} particles loaded, {:d} in training set, {:d} in validation set\".format(len(data), ntrain, len(data)-ntrain))\n",
    "    data=np.asarray(data,dtype=np.float32)\n",
    "    \n",
    "    print(data.shape)\n",
    "    print(\"Std of particles: \",np.std(data))\n",
    "    #data/=np.std(data.flatten())*3  #np.max(np.abs(data))\n",
    "    data/=3. ### so the range is roughly (-1,1)\n",
    "    label=np.asarray(label,dtype=np.float32)\n",
    "    label/=(np.max(np.abs(label)))\n",
    "\n",
    "    \n",
    "    header=EMData(ptcls,0,True)\n",
    "    shape=[header[\"nx\"],header[\"ny\"],header[\"nz\"]]\n",
    "    return data, label, shape, ntrain"
   ]
  },
  {
   "cell_type": "code",
   "execution_count": 94,
   "id": "7da70a40-7d68-4a73-b13b-7ea26c186abf",
   "metadata": {},
   "outputs": [
    {
     "name": "stdout",
     "output_type": "stream",
     "text": [
      "4283 particles loaded, 4283 in training set, 0 in validation set\n",
      "(4283, 6, 6)\n",
      "Std of particles:  1.3932803\n"
     ]
    },
    {
     "data": {
      "image/png": "[encoded data removed]",
      "text/plain": [
       "<Figure size 576x288 with 2 Axes>"
      ]
     },
     "metadata": {
      "needs_background": "light"
     },
     "output_type": "display_data"
    },
    {
     "data": {
      "image/png": "[encoded data removed]",
      "text/plain": [
       "<Figure size 576x288 with 2 Axes>"
      ]
     },
     "metadata": {
      "needs_background": "light"
     },
     "output_type": "display_data"
    }
   ],
   "source": [
    "#load train data\n",
    "datas, labels, shape, ntrain=load_particles('membrane_trainset_withbg_6x6.hdf',1,ncopy=1)\n",
    "datas=normalize(datas).reshape((-1, 6, 6, 1))\n",
    "plot_comparison(datas[100].squeeze(),labels[100])\n",
    "plot_comparison(datas[2000].squeeze(),labels[2000])"
   ]
  },
  {
   "cell_type": "code",
   "execution_count": 95,
   "id": "a028a9fc-9a68-481b-bb8b-866700790e63",
   "metadata": {},
   "outputs": [],
   "source": [
    "#calculate metric and loss\n",
    "def dice_coef(y_true, y_pred):\n",
    "    y_true_f = K.flatten(y_true)\n",
    "    y_pred_f = K.flatten(y_pred)\n",
    "    intersection = K.sum(y_true_f * y_pred_f)\n",
    "    return (2. * intersection ) / (K.sum(y_true_f) + K.sum(y_pred_f) )\n",
    "\n",
    "\n",
    "def dice_coef_loss(y_true, y_pred):\n",
    "    return -dice_coef(y_true, y_pred)"
   ]
  },
  {
   "cell_type": "code",
   "execution_count": 96,
   "id": "2de5c98f-5c4e-4211-a2d0-6e0cec562c69",
   "metadata": {},
   "outputs": [],
   "source": [
    "def get_tiny_unet(inp_x=None,inp_y=None):\n",
    "    inputs = Input((inp_x, inp_y, 1))\n",
    "    conv1 = Conv2D(32, (3, 3), activation='relu', padding='same')(inputs)\n",
    "    pool1 = MaxPooling2D(pool_size=(2, 2))(conv1)\n",
    "\n",
    "    conv2 = Conv2D(64, (3, 3), activation='relu', padding='same')(pool1)\n",
    "\n",
    "    up1 = concatenate([Conv2DTranspose(64, (2, 2), strides=(2, 2), padding='same')(conv2), conv1], axis=3)\n",
    "    conv3 = Conv2D(64, (3, 3), activation='relu', padding='same')(up1)\n",
    "\n",
    "\n",
    "    conv4 = Conv2D(1, (1, 1), activation='sigmoid')(conv3)\n",
    "\n",
    "    model = Model(inputs=[inputs], outputs=[conv4])\n",
    "\n",
    "    return model"
   ]
  },
  {
   "cell_type": "code",
   "execution_count": 97,
   "id": "829a5478-63af-4a45-94fc-620287282277",
   "metadata": {},
   "outputs": [
    {
     "name": "stdout",
     "output_type": "stream",
     "text": [
      "Model: \"model_6\"\n",
      "__________________________________________________________________________________________________\n",
      "Layer (type)                    Output Shape         Param #     Connected to                     \n",
      "==================================================================================================\n",
      "input_11 (InputLayer)           [(None, 6, 6, 1)]    0                                            \n",
      "__________________________________________________________________________________________________\n",
      "conv2d_32 (Conv2D)              (None, 6, 6, 32)     320         input_11[0][0]                   \n",
      "__________________________________________________________________________________________________\n",
      "max_pooling2d_9 (MaxPooling2D)  (None, 3, 3, 32)     0           conv2d_32[0][0]                  \n",
      "__________________________________________________________________________________________________\n",
      "conv2d_33 (Conv2D)              (None, 3, 3, 64)     18496       max_pooling2d_9[0][0]            \n",
      "__________________________________________________________________________________________________\n",
      "conv2d_transpose_10 (Conv2DTran (None, 6, 6, 64)     16448       conv2d_33[0][0]                  \n",
      "__________________________________________________________________________________________________\n",
      "concatenate_10 (Concatenate)    (None, 6, 6, 96)     0           conv2d_transpose_10[0][0]        \n",
      "                                                                 conv2d_32[0][0]                  \n",
      "__________________________________________________________________________________________________\n",
      "conv2d_34 (Conv2D)              (None, 6, 6, 64)     55360       concatenate_10[0][0]             \n",
      "__________________________________________________________________________________________________\n",
      "conv2d_35 (Conv2D)              (None, 6, 6, 1)      65          conv2d_34[0][0]                  \n",
      "==================================================================================================\n",
      "Total params: 90,689\n",
      "Trainable params: 90,689\n",
      "Non-trainable params: 0\n",
      "__________________________________________________________________________________________________\n"
     ]
    }
   ],
   "source": [
    "model = get_tiny_unet(6,6)\n",
    "model.summary()"
   ]
  },
  {
   "cell_type": "code",
   "execution_count": 98,
   "id": "6120393c-42a3-4e93-b565-ba737d55ccfe",
   "metadata": {},
   "outputs": [],
   "source": [
    "from tensorflow.python.keras.metrics import Metric\n",
    "def train_unet(train_data, label_data,weights_out,pretrained = None,no_epoch = 5, batch_sz= 10,val_split=0.2,learnrate=1e-4):\n",
    "    print('-'*30)\n",
    "    print('Loading and preprocessing train data...')\n",
    "    print('-'*30)\n",
    "    model = get_tiny_unet()\n",
    "    if pretrained != None:\n",
    "        model.load_weights(pretrained)\n",
    "    model.compile(optimizer=Adam(learning_rate=learnrate), loss=dice_coef_loss, metrics=[dice_coef])\n",
    "    #model.compile(optimizer='sgd',loss='mse',metrics=[Metric.BinaryIoU(target_class_id=[1], threshold=0.5)])\n",
    "    model_checkpoint = ModelCheckpoint(weights_out, monitor='val_loss', save_best_only=True)\n",
    "    #Saving the weights and the loss of the best predictions we obtained\n",
    "\n",
    "    print('-'*30)\n",
    "    print('Fitting model...')\n",
    "    print('-'*30)\n",
    "    history=model.fit(train_data, label_data, batch_size=batch_sz, epochs=no_epoch, verbose=1, shuffle=True,\n",
    "              validation_split=val_split,\n",
    "              callbacks=[model_checkpoint])\n",
    "    return model,history"
   ]
  },
  {
   "cell_type": "code",
   "execution_count": 99,
   "id": "7e4916ec-a6c4-43d1-ad6c-0272c66dbb4b",
   "metadata": {},
   "outputs": [
    {
     "name": "stdout",
     "output_type": "stream",
     "text": [
      "------------------------------\n",
      "Loading and preprocessing train data...\n",
      "------------------------------\n",
      "------------------------------\n",
      "Fitting model...\n",
      "------------------------------\n",
      "Epoch 1/30\n",
      "69/69 [==============================] - 1s 13ms/step - loss: -0.3157 - dice_coef: 0.3169 - val_loss: 0.0000e+00 - val_dice_coef: 0.0000e+00\n",
      "Epoch 2/30\n",
      "69/69 [==============================] - 1s 10ms/step - loss: -0.6099 - dice_coef: 0.6085 - val_loss: 0.0000e+00 - val_dice_coef: 0.0000e+00\n",
      "Epoch 3/30\n",
      "69/69 [==============================] - 1s 10ms/step - loss: -0.7464 - dice_coef: 0.7466 - val_loss: 0.0000e+00 - val_dice_coef: 0.0000e+00\n",
      "Epoch 4/30\n",
      "69/69 [==============================] - 1s 10ms/step - loss: -0.7754 - dice_coef: 0.7759 - val_loss: 0.0000e+00 - val_dice_coef: 0.0000e+00\n",
      "Epoch 5/30\n",
      "69/69 [==============================] - 1s 10ms/step - loss: -0.7897 - dice_coef: 0.7897 - val_loss: 0.0000e+00 - val_dice_coef: 0.0000e+00\n",
      "Epoch 6/30\n",
      "69/69 [==============================] - 1s 10ms/step - loss: -0.8051 - dice_coef: 0.8054 - val_loss: 0.0000e+00 - val_dice_coef: 0.0000e+00\n",
      "Epoch 7/30\n",
      "69/69 [==============================] - 1s 10ms/step - loss: -0.8051 - dice_coef: 0.8056 - val_loss: 0.0000e+00 - val_dice_coef: 0.0000e+00\n",
      "Epoch 8/30\n",
      "69/69 [==============================] - 1s 10ms/step - loss: -0.8089 - dice_coef: 0.8086 - val_loss: 0.0000e+00 - val_dice_coef: 0.0000e+00\n",
      "Epoch 9/30\n",
      "69/69 [==============================] - 1s 10ms/step - loss: -0.8222 - dice_coef: 0.8222 - val_loss: 0.0000e+00 - val_dice_coef: 0.0000e+00\n",
      "Epoch 10/30\n",
      "69/69 [==============================] - 1s 10ms/step - loss: -0.8212 - dice_coef: 0.8212 - val_loss: 0.0000e+00 - val_dice_coef: 0.0000e+00\n",
      "Epoch 11/30\n",
      "69/69 [==============================] - 1s 10ms/step - loss: -0.8329 - dice_coef: 0.8327 - val_loss: 0.0000e+00 - val_dice_coef: 0.0000e+00\n",
      "Epoch 12/30\n",
      "69/69 [==============================] - 1s 11ms/step - loss: -0.8318 - dice_coef: 0.8320 - val_loss: 0.0000e+00 - val_dice_coef: 0.0000e+00\n",
      "Epoch 13/30\n",
      "69/69 [==============================] - 1s 11ms/step - loss: -0.8348 - dice_coef: 0.8353 - val_loss: 0.0000e+00 - val_dice_coef: 0.0000e+00\n",
      "Epoch 14/30\n",
      "69/69 [==============================] - 1s 12ms/step - loss: -0.8353 - dice_coef: 0.8356 - val_loss: 0.0000e+00 - val_dice_coef: 0.0000e+00\n",
      "Epoch 15/30\n",
      "69/69 [==============================] - 1s 11ms/step - loss: -0.8425 - dice_coef: 0.8428 - val_loss: 0.0000e+00 - val_dice_coef: 0.0000e+00\n",
      "Epoch 16/30\n",
      "69/69 [==============================] - 1s 11ms/step - loss: -0.8458 - dice_coef: 0.8456 - val_loss: 0.0000e+00 - val_dice_coef: 0.0000e+00\n",
      "Epoch 17/30\n",
      "69/69 [==============================] - 1s 11ms/step - loss: -0.8497 - dice_coef: 0.8493 - val_loss: 0.0000e+00 - val_dice_coef: 0.0000e+00\n",
      "Epoch 18/30\n",
      "69/69 [==============================] - 1s 11ms/step - loss: -0.8490 - dice_coef: 0.8492 - val_loss: 0.0000e+00 - val_dice_coef: 0.0000e+00\n",
      "Epoch 19/30\n",
      "69/69 [==============================] - 1s 11ms/step - loss: -0.8541 - dice_coef: 0.8542 - val_loss: 0.0000e+00 - val_dice_coef: 0.0000e+00\n",
      "Epoch 20/30\n",
      "69/69 [==============================] - 1s 11ms/step - loss: -0.8540 - dice_coef: 0.8539 - val_loss: 0.0000e+00 - val_dice_coef: 0.0000e+00\n",
      "Epoch 21/30\n",
      "69/69 [==============================] - 1s 10ms/step - loss: -0.8570 - dice_coef: 0.8563 - val_loss: 0.0000e+00 - val_dice_coef: 0.0000e+00\n",
      "Epoch 22/30\n",
      "69/69 [==============================] - 1s 10ms/step - loss: -0.8600 - dice_coef: 0.8598 - val_loss: 0.0000e+00 - val_dice_coef: 0.0000e+00\n",
      "Epoch 23/30\n",
      "69/69 [==============================] - 1s 11ms/step - loss: -0.8638 - dice_coef: 0.8637 - val_loss: 0.0000e+00 - val_dice_coef: 0.0000e+00\n",
      "Epoch 24/30\n",
      "69/69 [==============================] - 1s 11ms/step - loss: -0.8623 - dice_coef: 0.8619 - val_loss: 0.0000e+00 - val_dice_coef: 0.0000e+00\n",
      "Epoch 25/30\n",
      "69/69 [==============================] - 1s 13ms/step - loss: -0.8639 - dice_coef: 0.8630 - val_loss: 0.0000e+00 - val_dice_coef: 0.0000e+00\n",
      "Epoch 26/30\n",
      "69/69 [==============================] - 1s 11ms/step - loss: -0.8698 - dice_coef: 0.8701 - val_loss: 0.0000e+00 - val_dice_coef: 0.0000e+00\n",
      "Epoch 27/30\n",
      "69/69 [==============================] - 1s 11ms/step - loss: -0.8704 - dice_coef: 0.8708 - val_loss: 0.0000e+00 - val_dice_coef: 0.0000e+00\n",
      "Epoch 28/30\n",
      "69/69 [==============================] - 1s 10ms/step - loss: -0.8695 - dice_coef: 0.8692 - val_loss: 0.0000e+00 - val_dice_coef: 0.0000e+00\n",
      "Epoch 29/30\n",
      "69/69 [==============================] - 1s 11ms/step - loss: -0.8729 - dice_coef: 0.8729 - val_loss: 0.0000e+00 - val_dice_coef: 0.0000e+00\n",
      "Epoch 30/30\n",
      "69/69 [==============================] - 1s 10ms/step - loss: -0.8713 - dice_coef: 0.8713 - val_loss: 0.0000e+00 - val_dice_coef: 0.0000e+00\n"
     ]
    }
   ],
   "source": [
    "model, hist = train_unet(datas,labels,batch_sz=50,weights_out='weights_membrane_6x6_bg.h5',val_split=0.2,no_epoch = \n",
    "                            30,learnrate=3e-4)"
   ]
  },
  {
   "cell_type": "code",
   "execution_count": 75,
   "id": "86f07597-b6f9-4db0-9e33-cd3386b6b7a0",
   "metadata": {
    "tags": []
   },
   "outputs": [],
   "source": [
    "def load_model(weights_in):\n",
    "    model = get_tiny_unet()\n",
    "    model.load_weights(weights_in)\n",
    "    return model"
   ]
  },
  {
   "cell_type": "code",
   "execution_count": 76,
   "id": "aa42230a-4c93-496a-add3-6336771e8cee",
   "metadata": {
    "tags": []
   },
   "outputs": [],
   "source": [
    "def predict_unet(test_data, test_labels,test_label_outfile,weights_in,pred_dir=None):\n",
    "    print('-'*30)\n",
    "    print('Loading and preprocessing test data...')\n",
    "    print('-'*30)\n",
    "\n",
    "    print('-'*30)\n",
    "    print('Loading saved weights...')\n",
    "    print('-'*30)\n",
    "    model = load_model(weights_in)\n",
    "\n",
    "    print('-'*30)\n",
    "    print('Predicting masks on test data...')\n",
    "    print('-'*30)\n",
    "    imgs_label_test = model.predict(test_data, verbose=1)\n",
    "    #print(model.evaluate(test_data,test_labels))\n",
    "    np.save(test_label_outfile, imgs_label_test)\n",
    "    print('-' * 30)\n",
    "    print('Saving predicted masks to files...')\n",
    "    print('-' * 30)\n",
    "    if pred_dir:  \n",
    "        if not os.path.exists(pred_dir):\n",
    "            os.mkdir(pred_dir)\n",
    "        for k in range(len(imgs_label_test)):  \n",
    "            a=rescale_intensity(test_data[k][:,:,0],out_range=(-1,1))\n",
    "            b=(imgs_label_test[k][:,:,0]).astype('uint8')\n",
    "            io.imsave(os.path.join(pred_dir, str(k) + '_pred.png'),mark_boundaries(a,b))\n",
    "        \n",
    "        \n",
    "            #Saving our predictions in the directory 'pred_dir'\n",
    "    "
   ]
  },
  {
   "cell_type": "code",
   "execution_count": 101,
   "id": "1d9f7027-4d84-4939-b1c2-f38d1e7b30cc",
   "metadata": {
    "tags": []
   },
   "outputs": [],
   "source": [
    "def apply_unet(weights_in=None,tomogram=None,outfile=None):\n",
    "    if tomogram==None:\n",
    "        print(\"Need to specify tomogram to apply U-net\")\n",
    "        return\n",
    "    if weights_in==None:\n",
    "        print(\"Need to provide weights of U-net\")\n",
    "        return\n",
    "    model = load_model(weights_in)\n",
    "\n",
    "    nframe=EMUtil.get_image_count(tomogram)\n",
    "    is3d=False\n",
    "    ### deal with 3D volume or image stack\n",
    "    e=EMData(tomogram, 0, True)\n",
    "    apix=e[\"apix_x\"]\n",
    "    if nframe==1:\n",
    "        nframe=e[\"nz\"]\n",
    "        if nframe>1:\n",
    "        #### input data is 3D volume\n",
    "            is3d=True\n",
    "\n",
    "    enx,eny=e[\"nx\"], e[\"ny\"]\n",
    "    tsz=max(enx,eny)\n",
    "\n",
    "    output=EMData(e[\"nx\"], e[\"ny\"], nframe)\n",
    "    output[\"tomogram_src\"]=tomogram\n",
    "    #output[\"nnet_src\"]=options.from_trained\n",
    "    output[\"apix_x\"]=apix\n",
    "    output[\"apix_y\"]=apix\n",
    "    output[\"apix_z\"]=apix\n",
    "\n",
    "    print(\"Loading tomogram...\")\n",
    "    tomo_in=[]\n",
    "    for nf in range(nframe):\n",
    "        if is3d:          \n",
    "            e0=EMData(tomogram, 0, False, Region((enx-tsz)//2,(eny-tsz)//2,nf,tsz,tsz,1))\n",
    "        else:\n",
    "            e0=EMData(tomogram, nf, False, Region((enx-tsz)//2,(eny-tsz)//2,tsz,tsz))\n",
    "        tomo_in.append(e0)\n",
    "    print(len(tomo_in))\n",
    "    for idx, img in enumerate(tomo_in):\n",
    "        if idx == 123:\n",
    "            plt.imshow(tomo_in[idx].numpy())\n",
    "        m=img.numpy()\n",
    "        print(m.shape)\n",
    "        p=model.predict(m[None, :, :, None]/3.,verbose=1)\n",
    "        print(m.shape)\n",
    "        #p[p<0]=0\n",
    "        cout=from_numpy(p[0,:,:,0])\n",
    "        cout=cout.get_clip(Region((cout[\"nx\"]-enx)//2,(cout[\"ny\"]-eny)//2 ,enx, eny))\n",
    "        #cout.scale(int(options.labelshrink))\n",
    "        output.insert_clip(cout, [0,0,idx])\n",
    "\n",
    "        sys.stdout.write(\"\\r  {}/{} finished.\".format(idx+1, len(tomo_in)))\n",
    "        sys.stdout.flush()\n",
    "    if outfile:\n",
    "        output.write_image(outfile)\n",
    "    return output"
   ]
  },
  {
   "cell_type": "code",
   "execution_count": 73,
   "id": "f949feda-f57b-4989-b5b0-6ec7473fe2e6",
   "metadata": {
    "tags": []
   },
   "outputs": [],
   "source": [
    "def save_segment_map(weights_in=None,tomogram=None,outfile=\"\"):\n",
    "    output = apply_unet(weights_in,tomogram)\n",
    "    c_out = to_numpy(output) \n",
    "    print(c_out.shape())\n",
    "    np.save(outfile, c_out)"
   ]
  },
  {
   "cell_type": "code",
   "execution_count": 102,
   "id": "0975174e-17eb-453e-931d-a354de77cd32",
   "metadata": {
    "tags": []
   },
   "outputs": [
    {
     "name": "stdout",
     "output_type": "stream",
     "text": [
      "Loading tomogram...\n",
      "2\n",
      "(1024, 1024)\n",
      "1/1 [==============================] - 1s 975ms/step\n",
      "(1024, 1024)\n",
      "  1/2 finished.(1024, 1024)\n",
      "1/1 [==============================] - 1s 867ms/step\n",
      "(1024, 1024)\n",
      "  2/2 finished."
     ]
    }
   ],
   "source": [
    "outmap = apply_unet('weights_membrane_6x6_bg.h5',tomogram='slice_128.hdf')"
   ]
  },
  {
   "cell_type": "code",
   "execution_count": 110,
   "id": "419f01cd-19ba-44ba-bd2f-ae6ca3bc426d",
   "metadata": {},
   "outputs": [],
   "source": [
    "def apply_unet_short(weights_in,tomogram,outfile=None):\n",
    "    model = load_model(weights_in)\n",
    "    \n",
    "    m=EMData(tomogram).numpy()\n",
    "    print(m.shape)\n",
    "    p=model.predict(m[None, :, :, None]/3.,verbose=1)\n",
    "    #p[p<0]=0\n",
    "    cout=from_numpy(p[0,:,:,0])\n",
    "    # cout=cout.get_clip(Region((cout[\"nx\"]-enx)//2,(cout[\"ny\"]-eny)//2 ,enx, eny))\n",
    "    # #cout.scale(int(options.labelshrink))\n",
    "    # output.insert_clip(cout, [0,0,idx])\n",
    "\n",
    "    #sys.stdout.write(\"\\r  {}/{} finished.\".format(idx+1, len(tomo_in)))\n",
    "    sys.stdout.flush()\n",
    "    if outfile:\n",
    "        cout.write_image(outfile)\n",
    "\n",
    "    return cout"
   ]
  },
  {
   "cell_type": "code",
   "execution_count": 111,
   "id": "11ad78c3-ebc2-4036-9214-664cc4e9a752",
   "metadata": {},
   "outputs": [
    {
     "name": "stdout",
     "output_type": "stream",
     "text": [
      "(1024, 1024)\n",
      "1/1 [==============================] - 1s 955ms/step\n",
      "(1024, 1024)\n"
     ]
    }
   ],
   "source": [
    "outmap = apply_unet_short('weights_membrane_6x6.h5',tomogram='slice_128.hdf',outfile=\"test_out.hdf\")"
   ]
  },
  {
   "cell_type": "markdown",
   "id": "6808e1dd-4d65-417e-a767-066e6f4a9fac",
   "metadata": {},
   "source": [
    "Helper Function"
   ]
  },
  {
   "cell_type": "code",
   "execution_count": 10,
   "id": "b8fbda14-3e11-4f4a-97e3-328eb03dbad7",
   "metadata": {},
   "outputs": [],
   "source": [
    "def normalize(data):\n",
    "    mean = np.mean(data)\n",
    "    std = np.std(data)\n",
    "    data = data - mean\n",
    "    data = data/std\n",
    "    return data"
   ]
  },
  {
   "cell_type": "code",
   "execution_count": 11,
   "id": "80d86511-e518-4b4a-a58a-2a17b0155799",
   "metadata": {},
   "outputs": [],
   "source": [
    "def pred_accuracy(test_labels,pred_labels):\n",
    "    acc = []\n",
    "    for i in range((test_labels.shape[0])):\n",
    "        acc.append(dice_coef(test_labels[i].astype('float64'),pred_labels[i]).numpy().astype('float64'))\n",
    "    return (np.average(acc))"
   ]
  },
  {
   "cell_type": "code",
   "execution_count": 12,
   "id": "9e6f7654-5f77-4272-aef0-6c1d0abe7adf",
   "metadata": {
    "tags": []
   },
   "outputs": [],
   "source": [
    "def stack_outfile(*dats, outfile):\n",
    "    im_x,im_y = dats[0].shape[1:]\n",
    "    out_array = np.array([*zip(*dats)]).reshape(-1,im_x,im_y)\n",
    "    #print(out_array.shape)\n",
    "    out = from_numpy(out_array)\n",
    "    out.write_image(outfile)"
   ]
  },
  {
   "cell_type": "code",
   "execution_count": 13,
   "id": "b3cdda50-7a47-4d40-ad90-4c34a044362c",
   "metadata": {},
   "outputs": [],
   "source": [
    "def hist_plot(history):\n",
    "    \n",
    "    plt.plot(history.history['dice_coef'])\n",
    "    plt.plot(history.history['val_dice_coef'])\n",
    "    plt.title('Model dice coeff')\n",
    "    plt.ylabel('Dice coeff')\n",
    "    plt.xlabel('Epoch')\n",
    "    plt.legend(['Train', 'Test'], loc='upper left')\n",
    "    plt.show()\n",
    "    #plotting our dice coeff results in function of the number of epochs"
   ]
  },
  {
   "cell_type": "code",
   "execution_count": 14,
   "id": "e448887b-9f14-4ec9-b993-a0515b1cdec6",
   "metadata": {},
   "outputs": [],
   "source": [
    "def plot_bbox(im,im_label):\n",
    "    im_label_overlay = label2rgb(im_label,image=im,bg_label=0,image_alpha=0.5)\n",
    "    fig, ax = plt.subplots()\n",
    "    ax.imshow(im_label_overlay)\n",
    "\n",
    "    for region in (regionprops(im_label)):\n",
    "        print(region.bbox)\n",
    "        minr, minc, maxr, maxc = region.bbox\n",
    "        rect = mpatches.Rectangle((minc,minr),maxc-minc,maxr-minr,fill=False,edgecolor='blue',linewidth=1)\n",
    "        ax.add_patch(rect)\n",
    "\n",
    "    ax.set_axis_off()\n",
    "    plt.tight_layout()\n",
    "    plt.show()"
   ]
  },
  {
   "cell_type": "code",
   "execution_count": 15,
   "id": "cb8c7b2d-08bf-4406-ac59-727cbce19c3f",
   "metadata": {},
   "outputs": [],
   "source": [
    "def plot_comparison(im1, im2, im1_name=\"\",im2_name=\"\"):\n",
    "\n",
    "    fig, (ax1, ax2) = plt.subplots(ncols=2, figsize=(8, 4), sharex=True,\n",
    "                                   sharey=True)\n",
    "    ax1.imshow(im1, cmap=plt.cm.gray)\n",
    "    ax1.set_title(im1_name)\n",
    "    ax1.axis('off')\n",
    "    ax2.imshow(im2, cmap=plt.cm.gray)\n",
    "    ax2.set_title(im2_name)\n",
    "    ax2.axis('off')\n",
    " "
   ]
  },
  {
   "cell_type": "code",
   "execution_count": 16,
   "id": "b3459c78-f577-4f2c-8ae7-6fac65eb3bcf",
   "metadata": {},
   "outputs": [],
   "source": [
    "def plot_dataset(data_arr,lab_arr,ind_arr=None,nrow=8,ncol=8):\n",
    "    class_names = ['Background','Alpha','Dense']\n",
    "    #class_names = ['Dense','Alpha']\n",
    "    plt.figure(figsize=(ncol*2,nrow*2))\n",
    "    if ind_arr == None:\n",
    "        ind_arr = np.random.choice(len(lab_arr),nrow*ncol,replace=False)\n",
    "    else:\n",
    "        ind_arr = ind_arr\n",
    "    print(ind_arr)\n",
    "    for i in range(nrow*ncol):\n",
    "        plt.subplot(nrow,ncol,i+1)\n",
    "        plt.xticks([])\n",
    "        plt.yticks([])\n",
    "        plt.grid(False)\n",
    "        plt.imshow(data_arr[ind_arr[i]].squeeze(), cmap='gray')\n",
    "        plt.xlabel(class_names[int(lab_arr[ind_arr[i]])])\n",
    "        #plt.xlabel((lab_arr[ind_arr[i]]))\n",
    "    plt.show()   "
   ]
  },
  {
   "cell_type": "code",
   "execution_count": 17,
   "id": "7191bd02-6fc1-47e0-8e34-57e9c7c593cf",
   "metadata": {},
   "outputs": [],
   "source": [
    "def rescale_dataset(data_array,rescale_size=None,interpolation_med=cv2.INTER_CUBIC):    \n",
    "    data_rescale = []\n",
    "    for im in data_array.squeeze():\n",
    "        temp=cv2.resize(im, dsize=rescale_size, interpolation=interpolation_med)\n",
    "        data_rescale.append(temp)\n",
    "    return np.asarray(data_rescale,dtype=np.float32)"
   ]
  },
  {
   "cell_type": "code",
   "execution_count": 42,
   "id": "fcc5c411-6854-42ab-826a-58a09abb5d08",
   "metadata": {},
   "outputs": [],
   "source": [
    "def normalize(data):\n",
    "    mean = np.mean(data)\n",
    "    std = np.std(data)\n",
    "    data = data - mean\n",
    "    data = data/std\n",
    "    return data"
   ]
  },
  {
   "cell_type": "code",
   "execution_count": 43,
   "id": "68d3c018-2cb7-4ea0-9f93-af6b231d5de0",
   "metadata": {},
   "outputs": [],
   "source": [
    "def pred_accuracy(test_labels,pred_labels):\n",
    "    acc = []\n",
    "    for i in range((test_labels.shape[0])):\n",
    "        acc.append(dice_coef(test_labels[i].astype('float64'),pred_labels[i]).numpy().astype('float64'))\n",
    "    return (np.average(acc))"
   ]
  },
  {
   "cell_type": "code",
   "execution_count": 44,
   "id": "6255c615-b955-4e7a-bd14-da1c5b8bc79f",
   "metadata": {
    "tags": []
   },
   "outputs": [],
   "source": [
    "def stack_outfile(*dats, outfile):\n",
    "    im_x,im_y = dats[0].shape[1:]\n",
    "    out_array = np.array([*zip(*dats)]).reshape(-1,im_x,im_y)\n",
    "    #print(out_array.shape)\n",
    "    out = from_numpy(out_array)\n",
    "    out.write_image(outfile)"
   ]
  },
  {
   "cell_type": "code",
   "execution_count": 45,
   "id": "71bc63cc-058e-432e-ad88-ba8e46d95861",
   "metadata": {},
   "outputs": [],
   "source": [
    "def hist_plot(history):\n",
    "    \n",
    "    plt.plot(history.history['dice_coef'])\n",
    "    plt.plot(history.history['val_dice_coef'])\n",
    "    plt.title('Model dice coeff')\n",
    "    plt.ylabel('Dice coeff')\n",
    "    plt.xlabel('Epoch')\n",
    "    plt.legend(['Train', 'Test'], loc='upper left')\n",
    "    plt.show()\n",
    "    #plotting our dice coeff results in function of the number of epochs"
   ]
  },
  {
   "cell_type": "code",
   "execution_count": 46,
   "id": "7da4522d-e2f8-4fa3-a489-4eb1e9836315",
   "metadata": {},
   "outputs": [],
   "source": [
    "def plot_bbox(im,im_label):\n",
    "    im_label_overlay = label2rgb(im_label,image=im,bg_label=0,image_alpha=0.5)\n",
    "    fig, ax = plt.subplots()\n",
    "    ax.imshow(im_label_overlay)\n",
    "\n",
    "    for region in (regionprops(im_label)):\n",
    "        print(region.bbox)\n",
    "        minr, minc, maxr, maxc = region.bbox\n",
    "        rect = mpatches.Rectangle((minc,minr),maxc-minc,maxr-minr,fill=False,edgecolor='blue',linewidth=1)\n",
    "        ax.add_patch(rect)\n",
    "\n",
    "    ax.set_axis_off()\n",
    "    plt.tight_layout()\n",
    "    plt.show()"
   ]
  },
  {
   "cell_type": "code",
   "execution_count": 47,
   "id": "1a1fd7b4-2f4f-46d3-9330-a1f10656576a",
   "metadata": {},
   "outputs": [],
   "source": [
    "def plot_comparison(im1, im2, im1_name=\"\",im2_name=\"\"):\n",
    "\n",
    "    fig, (ax1, ax2) = plt.subplots(ncols=2, figsize=(8, 4), sharex=True,\n",
    "                                   sharey=True)\n",
    "    ax1.imshow(im1, cmap=plt.cm.gray)\n",
    "    ax1.set_title(im1_name)\n",
    "    ax1.axis('off')\n",
    "    ax2.imshow(im2, cmap=plt.cm.gray)\n",
    "    ax2.set_title(im2_name)\n",
    "    ax2.axis('off')\n",
    " "
   ]
  },
  {
   "cell_type": "code",
   "execution_count": 48,
   "id": "99e479ca-c982-4563-a7c1-b39213253c5e",
   "metadata": {},
   "outputs": [],
   "source": [
    "def plot_dataset(data_arr,lab_arr,ind_arr=None,nrow=8,ncol=8):\n",
    "    class_names = ['Background','Alpha','Dense']\n",
    "    #class_names = ['Dense','Alpha']\n",
    "    plt.figure(figsize=(ncol*2,nrow*2))\n",
    "    if ind_arr == None:\n",
    "        ind_arr = np.random.choice(len(lab_arr),nrow*ncol,replace=False)\n",
    "    else:\n",
    "        ind_arr = ind_arr\n",
    "    print(ind_arr)\n",
    "    for i in range(nrow*ncol):\n",
    "        plt.subplot(nrow,ncol,i+1)\n",
    "        plt.xticks([])\n",
    "        plt.yticks([])\n",
    "        plt.grid(False)\n",
    "        plt.imshow(data_arr[ind_arr[i]].squeeze(), cmap='gray')\n",
    "        plt.xlabel(class_names[int(lab_arr[ind_arr[i]])])\n",
    "        #plt.xlabel((lab_arr[ind_arr[i]]))\n",
    "    plt.show()   "
   ]
  },
  {
   "cell_type": "code",
   "execution_count": 49,
   "id": "00b5d364-077d-45b2-ab19-958008b9b176",
   "metadata": {},
   "outputs": [],
   "source": [
    "def rescale_dataset(data_array,rescale_size=None,interpolation_med=cv2.INTER_CUBIC):    \n",
    "    data_rescale = []\n",
    "    for im in data_array.squeeze():\n",
    "        temp=cv2.resize(im, dsize=rescale_size, interpolation=interpolation_med)\n",
    "        data_rescale.append(temp)\n",
    "    return np.asarray(data_rescale,dtype=np.float32)"
   ]
  },
  {
   "cell_type": "code",
   "execution_count": 113,
   "id": "a8df7df2-0346-4bd5-9557-0b47beb73686",
   "metadata": {},
   "outputs": [],
   "source": [
    "a =  EMData('slice_128.hdf')\n",
    "b = EMData('membrane_rough.hdf')"
   ]
  },
  {
   "cell_type": "code",
   "execution_count": 115,
   "id": "6e801496-1642-4e54-816e-d25571bb96cb",
   "metadata": {},
   "outputs": [
    {
     "data": {
      "text/plain": [
       "<matplotlib.image.AxesImage at 0x1846213a0>"
      ]
     },
     "execution_count": 115,
     "metadata": {},
     "output_type": "execute_result"
    },
    {
     "data": {
      "image/png": "[encoded data removed]",
      "text/plain": [
       "<Figure size 432x288 with 1 Axes>"
      ]
     },
     "metadata": {
      "needs_background": "light"
     },
     "output_type": "display_data"
    }
   ],
   "source": [
    "plt.imshow(a.numpy()*b.numpy(),cmap='gray')"
   ]
  },
  {
   "cell_type": "code",
   "execution_count": 128,
   "id": "0700df01-657c-4648-9c4a-82d00ee9b161",
   "metadata": {},
   "outputs": [
    {
     "data": {
      "image/png": "[encoded data removed]",
      "text/plain": [
       "<Figure size 432x288 with 2 Axes>"
      ]
     },
     "metadata": {},
     "output_type": "display_data"
    }
   ],
   "source": [
    "import numpy as np\n",
    "import cv2 as cv\n",
    "from matplotlib import pyplot as plt\n",
    "import numpy as np\n",
    "\n",
    "img_or=a.numpy()*b.numpy()\n",
    "img=np.uint8(img_or)\n",
    "edges = cv.Canny(img,0.3,0.7)\n",
    "plt.subplot(121),plt.imshow(img,cmap = 'gray')\n",
    "plt.title('Original Image'), plt.xticks([]), plt.yticks([])\n",
    "plt.subplot(122),plt.imshow(edges,cmap = 'gray')\n",
    "plt.title('Edge Image'), plt.xticks([]), plt.yticks([])\n",
    "plt.show()"
   ]
  },
  {
   "cell_type": "code",
   "execution_count": 122,
   "id": "9708cbe8-b04b-4a51-b62a-a2d87c767b5c",
   "metadata": {},
   "outputs": [
    {
     "data": {
      "text/plain": [
       "(1024, 1024)"
      ]
     },
     "execution_count": 122,
     "metadata": {},
     "output_type": "execute_result"
    }
   ],
   "source": [
    "(a.numpy()*b.numpy())"
   ]
  },
  {
   "cell_type": "code",
   "execution_count": 121,
   "id": "14501a21-fa23-4f65-99be-773b7158e3c6",
   "metadata": {},
   "outputs": [
    {
     "data": {
      "text/plain": [
       "(1024, 1024)"
      ]
     },
     "execution_count": 121,
     "metadata": {},
     "output_type": "execute_result"
    }
   ],
   "source": [
    "b.numpy().shape"
   ]
  },
  {
   "cell_type": "code",
   "execution_count": 132,
   "id": "f76b2808-5386-4d0f-94f9-0f609274ebd2",
   "metadata": {},
   "outputs": [],
   "source": [
    "contour  = [(i,i) for i in range(10)]"
   ]
  },
  {
   "cell_type": "code",
   "execution_count": 151,
   "id": "74ca02d1-fb84-437e-a9f1-92393d6bdfc1",
   "metadata": {},
   "outputs": [],
   "source": [
    "contour = []\n",
    "for i in range(10,30):\n",
    "    for j in range(10,30):\n",
    "        contour.append((i,j))"
   ]
  },
  {
   "cell_type": "code",
   "execution_count": 152,
   "id": "76a50b58-222e-473b-88db-399388fdb6cd",
   "metadata": {},
   "outputs": [
    {
     "data": {
      "text/plain": [
       "<matplotlib.image.AxesImage at 0x18503da90>"
      ]
     },
     "execution_count": 152,
     "metadata": {},
     "output_type": "execute_result"
    },
    {
     "data": {
      "image/png": "[encoded data removed]",
      "text/plain": [
       "<Figure size 432x288 with 1 Axes>"
      ]
     },
     "metadata": {
      "needs_background": "light"
     },
     "output_type": "display_data"
    }
   ],
   "source": [
    "t = test_image(1,(50,50))\n",
    "im = np.zeros((50,50))\n",
    "for i,j in contour:\n",
    "    im[i,j] = 1\n",
    "plt.imshow(im)"
   ]
  },
  {
   "cell_type": "code",
   "execution_count": 153,
   "id": "4c10cbfb-82db-47c1-ab33-15c19488b3e1",
   "metadata": {},
   "outputs": [
    {
     "data": {
      "text/plain": [
       "<matplotlib.image.AxesImage at 0x1849fb250>"
      ]
     },
     "execution_count": 153,
     "metadata": {},
     "output_type": "execute_result"
    },
    {
     "data": {
      "image/png": "[encoded data removed]",
      "text/plain": [
       "<Figure size 432x288 with 1 Axes>"
      ]
     },
     "metadata": {
      "needs_background": "light"
     },
     "output_type": "display_data"
    }
   ],
   "source": [
    "plt.imshow(t.numpy()*im,cmap='gray')"
   ]
  },
  {
   "cell_type": "code",
   "execution_count": 168,
   "id": "8490b284-4b11-4dba-b6a6-d98dfb2bbd52",
   "metadata": {},
   "outputs": [],
   "source": [
    "t_np = t.numpy()\n",
    "t_np *= img"
   ]
  },
  {
   "cell_type": "code",
   "execution_count": 183,
   "id": "2a132373-98f2-4d7e-934b-2400d4722267",
   "metadata": {},
   "outputs": [
    {
     "data": {
      "text/plain": [
       "<matplotlib.image.AxesImage at 0x1853188b0>"
      ]
     },
     "execution_count": 183,
     "metadata": {},
     "output_type": "execute_result"
    },
    {
     "data": {
      "image/png": "[encoded data removed]",
      "text/plain": [
       "<Figure size 432x288 with 1 Axes>"
      ]
     },
     "metadata": {
      "needs_background": "light"
     },
     "output_type": "display_data"
    }
   ],
   "source": [
    "from skimage.draw import polygon, line\n",
    "img = np.zeros((50, 50), dtype=np.uint8)\n",
    "r = np.array([1, 1, 30,15,30])\n",
    "c = np.array([1, 30, 30,15,1])\n",
    "#rr, cc = polygon(r, c)\n",
    "for i in range(0,4):\n",
    "    rr, cc = line(r[i], c[i], r[i+1],c[i+1])\n",
    "    img[rr, cc] = 1\n",
    "img[rr, cc] = 1\n",
    "img\n",
    "plt.imshow(img)"
   ]
  },
  {
   "cell_type": "code",
   "execution_count": 180,
   "id": "f65e1966-c37c-4a49-9197-9049da128fb8",
   "metadata": {},
   "outputs": [
    {
     "data": {
      "text/plain": [
       "<matplotlib.image.AxesImage at 0x18521bf10>"
      ]
     },
     "execution_count": 180,
     "metadata": {},
     "output_type": "execute_result"
    },
    {
     "data": {
      "image/png": "[encoded data removed]",
      "text/plain": [
       "<Figure size 432x288 with 1 Axes>"
      ]
     },
     "metadata": {
      "needs_background": "light"
     },
     "output_type": "display_data"
    }
   ],
   "source": [
    "t = test_image(1,(50,50))\n",
    "t_np = t.numpy()\n",
    "t_np *= img\n",
    "plt.imshow(t.numpy(),cmap='gray')"
   ]
  },
  {
   "cell_type": "code",
   "execution_count": 193,
   "id": "34202563-58f3-490f-a2f1-0206771256a6",
   "metadata": {},
   "outputs": [],
   "source": [
    "x = [[179.5, 416.5, 0.0, 0, 0], [179.5, 416.5, 0.0, 0, 0], [220.5, 306.5, 0.0, 0, 0], [339.5, 226.5, 0.0, 0, 0], [479.5, 219.5, 0.0, 0, 0]]"
   ]
  },
  {
   "cell_type": "code",
   "execution_count": 195,
   "id": "be98c5ec-bc4e-4ced-8183-a1cb65c1d86d",
   "metadata": {},
   "outputs": [
    {
     "data": {
      "text/plain": [
       "<matplotlib.image.AxesImage at 0x1858f7460>"
      ]
     },
     "execution_count": 195,
     "metadata": {},
     "output_type": "execute_result"
    },
    {
     "data": {
      "image/png": "[encoded data removed]",
      "text/plain": [
       "<Figure size 432x288 with 1 Axes>"
      ]
     },
     "metadata": {
      "needs_background": "light"
     },
     "output_type": "display_data"
    }
   ],
   "source": [
    "r = np.array([int(item[0]) for item in x])\n",
    "c = np.array([int(item[1]) for item in x])\n",
    "img = np.zeros((850, 850), dtype=np.uint8)\n",
    "for i in range(len(r)-1):\n",
    "    rr, cc = line(r[i], c[i], r[i+1],c[i+1])\n",
    "    img[rr, cc] = 1\n",
    "img[rr, cc] = 1\n",
    "img\n",
    "plt.imshow(img)"
   ]
  },
  {
   "cell_type": "code",
   "execution_count": 197,
   "id": "552e8db6-3e7a-46c5-b4f5-40f7f879dd57",
   "metadata": {},
   "outputs": [],
   "source": [
    "y = [[187.49999999999986, 272.0454545454543, 0, 0.0], [332.0454545454543, 269.3181818181816, 0, 0.0], [325.6818181818179, 140.2272727272726, 0, 0.0], [264.772727272727, 190.22727272727255, 0, 0.0], [206.59090909090892, 146.59090909090895, 0, 0.0]]"
   ]
  },
  {
   "cell_type": "code",
   "execution_count": 224,
   "id": "1719986a-d6fb-4f0d-8776-e3f53d0a233c",
   "metadata": {},
   "outputs": [
    {
     "ename": "IndexError",
     "evalue": "list index out of range",
     "output_type": "error",
     "traceback": [
      "\u001b[0;31m---------------------------------------------------------------------------\u001b[0m",
      "\u001b[0;31mIndexError\u001b[0m                                Traceback (most recent call last)",
      "Input \u001b[0;32mIn [224]\u001b[0m, in \u001b[0;36m<module>\u001b[0;34m\u001b[0m\n\u001b[1;32m      1\u001b[0m y \u001b[38;5;241m=\u001b[39m [[\u001b[38;5;241m100\u001b[39m,\u001b[38;5;241m100\u001b[39m],[\u001b[38;5;241m100\u001b[39m,\u001b[38;5;241m300\u001b[39m],[\u001b[38;5;241m300\u001b[39m,\u001b[38;5;241m600\u001b[39m],[\u001b[38;5;241m600\u001b[39m,\u001b[38;5;241m100\u001b[39m],[\u001b[38;5;241m100\u001b[39m,\u001b[38;5;241m100\u001b[39m]]\n\u001b[1;32m      2\u001b[0m y \u001b[38;5;241m=\u001b[39m [[]]\n\u001b[0;32m----> 3\u001b[0m r \u001b[38;5;241m=\u001b[39m np\u001b[38;5;241m.\u001b[39marray([\u001b[38;5;28mint\u001b[39m(item[\u001b[38;5;241m0\u001b[39m]) \u001b[38;5;28;01mfor\u001b[39;00m item \u001b[38;5;129;01min\u001b[39;00m y])\n\u001b[1;32m      4\u001b[0m c \u001b[38;5;241m=\u001b[39m np\u001b[38;5;241m.\u001b[39marray([\u001b[38;5;28mint\u001b[39m(item[\u001b[38;5;241m1\u001b[39m]) \u001b[38;5;28;01mfor\u001b[39;00m item \u001b[38;5;129;01min\u001b[39;00m y])\n\u001b[1;32m      5\u001b[0m img \u001b[38;5;241m=\u001b[39m np\u001b[38;5;241m.\u001b[39mzeros((\u001b[38;5;241m1024\u001b[39m, \u001b[38;5;241m1024\u001b[39m), dtype\u001b[38;5;241m=\u001b[39mnp\u001b[38;5;241m.\u001b[39muint8)\n",
      "Input \u001b[0;32mIn [224]\u001b[0m, in \u001b[0;36m<listcomp>\u001b[0;34m(.0)\u001b[0m\n\u001b[1;32m      1\u001b[0m y \u001b[38;5;241m=\u001b[39m [[\u001b[38;5;241m100\u001b[39m,\u001b[38;5;241m100\u001b[39m],[\u001b[38;5;241m100\u001b[39m,\u001b[38;5;241m300\u001b[39m],[\u001b[38;5;241m300\u001b[39m,\u001b[38;5;241m600\u001b[39m],[\u001b[38;5;241m600\u001b[39m,\u001b[38;5;241m100\u001b[39m],[\u001b[38;5;241m100\u001b[39m,\u001b[38;5;241m100\u001b[39m]]\n\u001b[1;32m      2\u001b[0m y \u001b[38;5;241m=\u001b[39m [[]]\n\u001b[0;32m----> 3\u001b[0m r \u001b[38;5;241m=\u001b[39m np\u001b[38;5;241m.\u001b[39marray([\u001b[38;5;28mint\u001b[39m(\u001b[43mitem\u001b[49m\u001b[43m[\u001b[49m\u001b[38;5;241;43m0\u001b[39;49m\u001b[43m]\u001b[49m) \u001b[38;5;28;01mfor\u001b[39;00m item \u001b[38;5;129;01min\u001b[39;00m y])\n\u001b[1;32m      4\u001b[0m c \u001b[38;5;241m=\u001b[39m np\u001b[38;5;241m.\u001b[39marray([\u001b[38;5;28mint\u001b[39m(item[\u001b[38;5;241m1\u001b[39m]) \u001b[38;5;28;01mfor\u001b[39;00m item \u001b[38;5;129;01min\u001b[39;00m y])\n\u001b[1;32m      5\u001b[0m img \u001b[38;5;241m=\u001b[39m np\u001b[38;5;241m.\u001b[39mzeros((\u001b[38;5;241m1024\u001b[39m, \u001b[38;5;241m1024\u001b[39m), dtype\u001b[38;5;241m=\u001b[39mnp\u001b[38;5;241m.\u001b[39muint8)\n",
      "\u001b[0;31mIndexError\u001b[0m: list index out of range"
     ]
    }
   ],
   "source": [
    "y = [[100,100],[100,300],[300,600],[600,100],[100,100]]\n",
    "r = np.array([int(item[0]) for item in y])\n",
    "c = np.array([int(item[1]) for item in y])\n",
    "img = np.zeros((1024, 1024), dtype=np.uint8)\n",
    "for i in range(len(r)-1):\n",
    "    try:\n",
    "        rr, cc, val = weighted_line(r[i], c[i], r[i+1],c[i+1], 10)\n",
    "        img[rr, cc] = 2\n",
    "    except:\n",
    "        continue\n",
    "#rr,cc = polygon(r,c)\n",
    "img[rr, cc] = 1\n",
    "img\n",
    "plt.imshow(img, cmap = 'gray')"
   ]
  },
  {
   "cell_type": "code",
   "execution_count": 217,
   "id": "2f38e258-785c-4e4a-91be-320e7e88a46f",
   "metadata": {},
   "outputs": [],
   "source": [
    "def trapez(y,y0,w):\n",
    "    return np.clip(np.minimum(y+1+w/2-y0, -y+1+w/2+y0),0,1)\n",
    "\n",
    "def weighted_line(r0, c0, r1, c1, w, rmin=0, rmax=np.inf):\n",
    "    # The algorithm below works fine if c1 >= c0 and c1-c0 >= abs(r1-r0).\n",
    "    # If either of these cases are violated, do some switches.\n",
    "    if c0 == c1 and r0 == r1:\n",
    "        return 0,0,0\n",
    "    if abs(c1-c0) < abs(r1-r0):\n",
    "        # Switch x and y, and switch again when returning.\n",
    "        xx, yy, val = weighted_line(c0, r0, c1, r1, w, rmin=rmin, rmax=rmax)\n",
    "        return (yy, xx, val)\n",
    "\n",
    "    # At this point we know that the distance in columns (x) is greater\n",
    "    # than that in rows (y). Possibly one more switch if c0 > c1.\n",
    "    if c0 > c1:\n",
    "        return weighted_line(r1, c1, r0, c0, w, rmin=rmin, rmax=rmax)\n",
    "\n",
    "\n",
    "    # The following is now always < 1 in abs\n",
    "    slope = (r1-r0) / (c1-c0)\n",
    "\n",
    "    # Adjust weight by the slope\n",
    "    w *= np.sqrt(1+np.abs(slope)) / 2\n",
    "\n",
    "    # We write y as a function of x, because the slope is always <= 1\n",
    "    # (in absolute value)\n",
    "    x = np.arange(c0, c1+1, dtype=float)\n",
    "    y = x * slope + (c1*r0-c0*r1) / (c1-c0)\n",
    "\n",
    "    # Now instead of 2 values for y, we have 2*np.ceil(w/2).\n",
    "    # All values are 1 except the upmost and bottommost.\n",
    "    thickness = np.ceil(w/2)\n",
    "    yy = (np.floor(y).reshape(-1,1) + np.arange(-thickness-1,thickness+2).reshape(1,-1))\n",
    "    xx = np.repeat(x, yy.shape[1])\n",
    "    vals = trapez(yy, y.reshape(-1,1), w).flatten()\n",
    "\n",
    "    yy = yy.flatten()\n",
    "\n",
    "    # Exclude useless parts and those outside of the interval\n",
    "    # to avoid parts outside of the picture\n",
    "    mask = np.logical_and.reduce((yy >= rmin, yy < rmax, vals > 0))\n",
    "\n",
    "    return (yy[mask].astype(int), xx[mask].astype(int), vals[mask])"
   ]
  },
  {
   "cell_type": "code",
   "execution_count": 206,
   "id": "ef139743-e6c4-42e6-a70f-d611662bef76",
   "metadata": {},
   "outputs": [],
   "source": [
    "a = [1,2,3,4,5]"
   ]
  },
  {
   "cell_type": "code",
   "execution_count": 208,
   "id": "58a24ca8-cae9-4e82-abc6-9123dbe06239",
   "metadata": {},
   "outputs": [
    {
     "data": {
      "text/plain": [
       "[2, 3, 4]"
      ]
     },
     "execution_count": 208,
     "metadata": {},
     "output_type": "execute_result"
    }
   ],
   "source": [
    "a[1:-1]"
   ]
  },
  {
   "cell_type": "code",
   "execution_count": 225,
   "id": "30f914c7-fa02-4bb5-aa4b-17a1ec17befe",
   "metadata": {},
   "outputs": [],
   "source": [
    "i = 1000"
   ]
  },
  {
   "cell_type": "code",
   "execution_count": null,
   "id": "ee9a0056-b07c-4f96-bc66-9ac907448d19",
   "metadata": {},
   "outputs": [],
   "source": [
    "for i in range(100000000000000):   \n",
    "    if (str(i)[-1]+str(i)[0:-1]) == 4*i:\n",
    "        print(i)"
   ]
  },
  {
   "cell_type": "code",
   "execution_count": null,
   "id": "e5e61ea0-c77d-4629-aaba-64734677d5dc",
   "metadata": {},
   "outputs": [],
   "source": []
  }
 ],
 "metadata": {
  "kernelspec": {
   "display_name": "Python 3 (ipykernel)",
   "language": "python",
   "name": "python3"
  },
  "language_info": {
   "codemirror_mode": {
    "name": "ipython",
    "version": 3
   },
   "file_extension": ".py",
   "mimetype": "text/x-python",
   "name": "python",
   "nbconvert_exporter": "python",
   "pygments_lexer": "ipython3",
   "version": "3.9.10"
  }
 },
 "nbformat": 4,
 "nbformat_minor": 5
}
