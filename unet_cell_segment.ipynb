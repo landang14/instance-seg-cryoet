{
 "cells": [
  {
   "cell_type": "code",
   "execution_count": 4,
   "id": "7e7c62fc-fd05-4d34-b94b-f4bc025ac00e",
   "metadata": {},
   "outputs": [],
   "source": [
    "import sys\n",
    "stdout = sys.stdout"
   ]
  },
  {
   "cell_type": "code",
   "execution_count": 5,
   "id": "8e9e3f45-1178-4b62-a605-ae85e8493689",
   "metadata": {},
   "outputs": [],
   "source": [
    "import numpy as np\n",
    "import os\n",
    "from scipy import ndimage, misc\n",
    "import matplotlib.pyplot as plt\n",
    "#from skimage.io import imread\n",
    "from skimage.color import rgb2gray\n",
    "%matplotlib inline\n",
    "from EMAN2 import *"
   ]
  },
  {
   "cell_type": "code",
   "execution_count": 6,
   "id": "3f7bedea-9d77-4d36-a081-447946f76fd3",
   "metadata": {},
   "outputs": [],
   "source": [
    "from __future__ import print_function\n",
    "from skimage.transform import resize\n",
    "from skimage.io import imsave\n",
    "from skimage.segmentation import mark_boundaries\n",
    "import tensorflow as tf"
   ]
  },
  {
   "cell_type": "code",
   "execution_count": 7,
   "id": "6871a493-e6cc-4086-a84f-0d8f0f90056f",
   "metadata": {},
   "outputs": [],
   "source": [
    "#import tensorflow_hub as hub\n",
    "from tensorflow.keras.layers import Input, Conv2D, MaxPooling2D,Flatten,Dense,Dropout,BatchNormalization"
   ]
  },
  {
   "cell_type": "code",
   "execution_count": 8,
   "id": "aef982ea-a590-4bd3-bf27-c4c94002f49c",
   "metadata": {},
   "outputs": [],
   "source": [
    "from tensorflow.keras.models import Model\n",
    "from tensorflow.keras.layers import Input, concatenate, Conv2D, MaxPooling2D, Conv2DTranspose\n",
    "from tensorflow.keras.optimizers import Adam, SGD\n",
    "from tensorflow.keras.callbacks import ModelCheckpoint, History\n",
    "from tensorflow.keras import backend as K\n",
    "from skimage.exposure import rescale_intensity\n",
    "from skimage import io\n",
    "import matplotlib"
   ]
  },
  {
   "cell_type": "code",
   "execution_count": 9,
   "id": "243a09d9-c773-4aef-be6e-a3fcba448f08",
   "metadata": {},
   "outputs": [
    {
     "name": "stderr",
     "output_type": "stream",
     "text": [
      "/var/folders/fn/nlgx_qdn2r19y90q6x372b3c0000gn/T/ipykernel_29248/2318367190.py:4: FutureWarning: The `skimage.morphology.selem` module is deprecated and will be removed in scikit-image 1.0 (`skimage.morphology.selem` has been moved to `skimage.morphology.footprints`).\n",
      "  from skimage.morphology.selem import disk\n"
     ]
    }
   ],
   "source": [
    "import matplotlib.patches as mpatches\n",
    "from skimage.measure import regionprops\n",
    "from skimage.color import label2rgb\n",
    "from skimage.morphology.selem import disk\n",
    "import cv2\n",
    "from skimage.filters import gaussian\n",
    "from skimage.feature import peak_local_max, blob_log\n",
    "#from scipy import ndimage\n",
    "from skimage import morphology\n",
    "from scipy import ndimage as ndi\n",
    "from skimage.segmentation import watershed\n",
    "from skimage.feature import peak_local_max\n",
    "#from skimage import data, color"
   ]
  },
  {
   "cell_type": "markdown",
   "id": "738750ed-cd95-40f1-b680-8ce8b4161e8c",
   "metadata": {
    "tags": []
   },
   "source": [
    "Helper function\n",
    "###############\n"
   ]
  },
  {
   "cell_type": "code",
   "execution_count": 10,
   "id": "0c786a8d-035d-4d84-8b94-127485b3abfa",
   "metadata": {},
   "outputs": [],
   "source": [
    "def normalize(data):\n",
    "    mean = np.mean(data)\n",
    "    std = np.std(data)\n",
    "    data = data - mean\n",
    "    data = data/std\n",
    "    return data"
   ]
  },
  {
   "cell_type": "code",
   "execution_count": 11,
   "id": "progressive-relevance",
   "metadata": {},
   "outputs": [],
   "source": [
    "def pred_accuracy(test_labels,pred_labels):\n",
    "    acc = []\n",
    "    for i in range((test_labels.shape[0])):\n",
    "        acc.append(dice_coef(test_labels[i].astype('float64'),pred_labels[i]).numpy().astype('float64'))\n",
    "    return (np.average(acc))"
   ]
  },
  {
   "cell_type": "code",
   "execution_count": 12,
   "id": "81289476-346e-42d2-9492-927f3bb08ec0",
   "metadata": {
    "tags": []
   },
   "outputs": [],
   "source": [
    "def stack_outfile(*dats, outfile):\n",
    "    im_x,im_y = dats[0].shape[1:]\n",
    "    out_array = np.array([*zip(*dats)]).reshape(-1,im_x,im_y)\n",
    "    #print(out_array.shape)\n",
    "    out = from_numpy(out_array)\n",
    "    out.write_image(outfile)"
   ]
  },
  {
   "cell_type": "code",
   "execution_count": 13,
   "id": "angry-technique",
   "metadata": {},
   "outputs": [],
   "source": [
    "def hist_plot(history):\n",
    "    \n",
    "    plt.plot(history.history['dice_coef'])\n",
    "    plt.plot(history.history['val_dice_coef'])\n",
    "    plt.title('Model dice coeff')\n",
    "    plt.ylabel('Dice coeff')\n",
    "    plt.xlabel('Epoch')\n",
    "    plt.legend(['Train', 'Test'], loc='upper left')\n",
    "    plt.show()\n",
    "    #plotting our dice coeff results in function of the number of epochs"
   ]
  },
  {
   "cell_type": "code",
   "execution_count": 14,
   "id": "artistic-nursery",
   "metadata": {},
   "outputs": [],
   "source": [
    "def plot_bbox(im,im_label):\n",
    "    im_label_overlay = label2rgb(im_label,image=im,bg_label=0,image_alpha=0.5)\n",
    "    fig, ax = plt.subplots()\n",
    "    ax.imshow(im_label_overlay)\n",
    "\n",
    "    for region in (regionprops(im_label)):\n",
    "        print(region.bbox)\n",
    "        minr, minc, maxr, maxc = region.bbox\n",
    "        rect = mpatches.Rectangle((minc,minr),maxc-minc,maxr-minr,fill=False,edgecolor='blue',linewidth=1)\n",
    "        ax.add_patch(rect)\n",
    "\n",
    "    ax.set_axis_off()\n",
    "    plt.tight_layout()\n",
    "    plt.show()"
   ]
  },
  {
   "cell_type": "code",
   "execution_count": 15,
   "id": "8b8686dc-9688-4d8f-8985-421d5bf6ea98",
   "metadata": {},
   "outputs": [],
   "source": [
    "def plot_comparison(im1, im2, im1_name=\"\",im2_name=\"\"):\n",
    "\n",
    "    fig, (ax1, ax2) = plt.subplots(ncols=2, figsize=(8, 4), sharex=True,\n",
    "                                   sharey=True)\n",
    "    ax1.imshow(im1, cmap=plt.cm.gray)\n",
    "    ax1.set_title(im1_name)\n",
    "    ax1.axis('off')\n",
    "    ax2.imshow(im2, cmap=plt.cm.gray)\n",
    "    ax2.set_title(im2_name)\n",
    "    ax2.axis('off')\n",
    " "
   ]
  },
  {
   "cell_type": "code",
   "execution_count": 16,
   "id": "e3b434e6-32be-4471-a4d8-dfe1f7e3bb8c",
   "metadata": {},
   "outputs": [],
   "source": [
    "def plot_dataset(data_arr,lab_arr,ind_arr=None,nrow=8,ncol=8):\n",
    "    class_names = ['Background','Alpha','Dense']\n",
    "    #class_names = ['Dense','Alpha']\n",
    "    plt.figure(figsize=(ncol*2,nrow*2))\n",
    "    if ind_arr == None:\n",
    "        ind_arr = np.random.choice(len(lab_arr),nrow*ncol,replace=False)\n",
    "    else:\n",
    "        ind_arr = ind_arr\n",
    "    print(ind_arr)\n",
    "    for i in range(nrow*ncol):\n",
    "        plt.subplot(nrow,ncol,i+1)\n",
    "        plt.xticks([])\n",
    "        plt.yticks([])\n",
    "        plt.grid(False)\n",
    "        plt.imshow(data_arr[ind_arr[i]].squeeze(), cmap='gray')\n",
    "        plt.xlabel(class_names[int(lab_arr[ind_arr[i]])])\n",
    "        #plt.xlabel((lab_arr[ind_arr[i]]))\n",
    "    plt.show()   "
   ]
  },
  {
   "cell_type": "code",
   "execution_count": 17,
   "id": "396f8b04-56ad-47e0-bbf0-9117e7537380",
   "metadata": {
    "tags": []
   },
   "outputs": [],
   "source": [
    "def rescale_dataset(data_array,rescale_size=None,interpolation_med=cv2.INTER_CUBIC):    \n",
    "    data_rescale = []\n",
    "    for im in data_array.squeeze():\n",
    "        temp=cv2.resize(im, dsize=rescale_size, interpolation=interpolation_med)\n",
    "        data_rescale.append(temp)\n",
    "    return np.asarray(data_rescale,dtype=np.float32)"
   ]
  },
  {
   "cell_type": "markdown",
   "id": "2667033e-f648-43df-9392-b78f63d0af6a",
   "metadata": {
    "tags": []
   },
   "source": [
    "Load data from hdf file from boxer tools."
   ]
  },
  {
   "cell_type": "code",
   "execution_count": 18,
   "id": "a020eb40-2b37-41d8-ae17-54dab50a21ba",
   "metadata": {
    "tags": []
   },
   "outputs": [],
   "source": [
    "def load_particles(ptcls,labelshrink=1,ncopy=1, rng=None):\n",
    "    if rng==None:\n",
    "        rng=random\n",
    "    #num=old_div(EMUtil.get_image_count(ptcls),2)\n",
    "    #print(num)\n",
    "    is3d=False\n",
    "    e=EMData(ptcls,0, True)\n",
    "    tsz=max(e[\"nx\"],e[\"ny\"])\n",
    "    \n",
    "    nframe=EMUtil.get_image_count(ptcls)\n",
    "    if nframe==1:\n",
    "        nframe=e[\"nz\"]\n",
    "        if nframe>1:\n",
    "            is3d=True\n",
    "    num = nframe//2\n",
    "    data=[]\n",
    "    label=[]\n",
    "    ntrain=-1\n",
    "    \n",
    "    for i in range(num):\n",
    "        for nc in range(ncopy):\n",
    "            if is3d:\n",
    "                ptl=EMData(ptcls,0, False,Region(0,0,i*2,tsz,tsz,1))\n",
    "            else:\n",
    "                ptl=EMData(ptcls,i*2, False, Region(0,0,tsz,tsz))\n",
    "                           \n",
    "            if ntrain<0 and ptl.get_attr_default(\"valid_set\", 0)==1:\n",
    "                ntrain=len(data)\n",
    "            #ptl.process_inplace(\"threshold.belowtozero\")\n",
    "            if ncopy>1:\n",
    "                tr=Transform()\n",
    "                tr.set_rotation({\"type\":\"2d\",\"alpha\":rng.random()*360.0})\n",
    "                ptl.process_inplace(\"xform\",{\"transform\":tr})\n",
    "            ar=ptl.numpy().copy()\n",
    "            #shp=np.shape(ar)\n",
    "            data.append(ar)\n",
    "            \n",
    "            if is3d:\n",
    "                ptl=EMData(ptcls,0, False,Region(0,0,i*2+1,tsz,tsz,1))\n",
    "            else:\n",
    "                ptl=EMData(ptcls,i*2+1, False, Region(0,0,tsz,tsz))\n",
    "            #ptl.process_inplace(\"threshold.belowtozero\")\n",
    "                           \n",
    "            if ncopy>1:\n",
    "                ptl.process_inplace(\"xform\",{\"transform\":tr})\n",
    "            if labelshrink>1:\n",
    "                ptl.process_inplace(\"math.meanshrink\",{'n':int(labelshrink)})\n",
    "            ar=ptl.numpy().copy()\n",
    "            #shp=np.shape(ar)\n",
    "            label.append(ar)\n",
    "\n",
    "    if ntrain<0: ntrain=len(data)\n",
    "    print(\"{:d} particles loaded, {:d} in training set, {:d} in validation set\".format(len(data), ntrain, len(data)-ntrain))\n",
    "    data=np.asarray(data,dtype=np.float32)  \n",
    "    print(data.shape)\n",
    "    print(\"Std of particles: \",np.std(data))\n",
    "    #data/=np.std(data.flatten())*3  #np.max(np.abs(data))\n",
    "    data/=3. ### so the range is roughly (-1,1)\n",
    "    label=np.asarray(label,dtype=np.float32)\n",
    "    label/=(np.max(np.abs(label)))  \n",
    "    header=EMData(ptcls,0,True)\n",
    "    shape=[header[\"nx\"],header[\"ny\"],header[\"nz\"]]\n",
    "    return data, label, shape, ntrain"
   ]
  },
  {
   "cell_type": "code",
   "execution_count": 46,
   "id": "clear-pasta",
   "metadata": {},
   "outputs": [
    {
     "name": "stdout",
     "output_type": "stream",
     "text": [
      "8992 particles loaded, 8992 in training set, 0 in validation set\n",
      "(8992, 32, 32)\n",
      "Std of particles:  1.4064252\n"
     ]
    },
    {
     "data": {
      "image/png": "[encoded data removed]",
      "text/plain": [
       "<Figure size 576x288 with 2 Axes>"
      ]
     },
     "metadata": {
      "needs_background": "light"
     },
     "output_type": "display_data"
    }
   ],
   "source": [
    "#load train data. Input is a trainset.hdf file from the boxertools.\n",
    "datas, labels, shape, ntrain=load_particles('./particles/dense_256_smallreg_data_raw_trainset.hdf',1,ncopy=2)\n",
    "#reshape data to 4-d tensor\n",
    "datas=normalize(datas).reshape((-1, 32, 32, 1))\n",
    "plot_comparison(datas[100].squeeze(),labels[100])\n",
    "#dataset = tf.data.Dataset.from_tensor_slices((datas, labels))\n",
    "#dataset=dataset.shuffle(500).batch(10)"
   ]
  },
  {
   "cell_type": "code",
   "execution_count": 20,
   "id": "c1bea59d-7c06-429c-be8c-59d6a718ed41",
   "metadata": {},
   "outputs": [],
   "source": [
    "#calculate metric and loss\n",
    "def dice_coef(y_true, y_pred):\n",
    "    y_true_f = K.flatten(y_true)\n",
    "    y_pred_f = K.flatten(y_pred)\n",
    "    intersection = K.sum(y_true_f * y_pred_f)\n",
    "    return (2. * intersection ) / (K.sum(y_true_f) + K.sum(y_pred_f) )\n",
    "def dice_coef_loss(y_true, y_pred):\n",
    "    return -dice_coef(y_true, y_pred)"
   ]
  },
  {
   "cell_type": "code",
   "execution_count": 21,
   "id": "77559679-9a4e-4b3d-8277-8588593e49df",
   "metadata": {
    "tags": []
   },
   "outputs": [],
   "source": [
    "#u-net\n",
    "def get_unet(inp_x=None,inp_y=None):\n",
    "    inputs = Input((inp_x, inp_y, 1))\n",
    "    conv1 = Conv2D(32, (3, 3), activation='relu', padding='same')(inputs)\n",
    "    conv1 = Conv2D(32, (3, 3), activation='relu', padding='same')(conv1)\n",
    "    pool1 = MaxPooling2D(pool_size=(2, 2))(conv1)\n",
    "\n",
    "    conv2 = Conv2D(64, (3, 3), activation='relu', padding='same')(pool1)\n",
    "    conv2 = Conv2D(64, (3, 3), activation='relu', padding='same')(conv2)\n",
    "    pool2 = MaxPooling2D(pool_size=(2, 2))(conv2)\n",
    "\n",
    "    conv3 = Conv2D(128, (3, 3), activation='relu', padding='same')(pool2)\n",
    "    conv3 = Conv2D(128, (3, 3), activation='relu', padding='same')(conv3)\n",
    "    pool3 = MaxPooling2D(pool_size=(2, 2))(conv3)\n",
    "\n",
    "    conv4 = Conv2D(256, (3, 3), activation='relu', padding='same')(pool3)\n",
    "    conv4 = Conv2D(256, (3, 3), activation='relu', padding='same')(conv4)\n",
    "    pool4 = MaxPooling2D(pool_size=(2, 2))(conv4)\n",
    "\n",
    "    conv5 = Conv2D(512, (3, 3), activation='relu', padding='same')(pool4)\n",
    "    conv5 = Conv2D(512, (3, 3), activation='relu', padding='same')(conv5)\n",
    "\n",
    "    up6 = concatenate([Conv2DTranspose(256, (2, 2), strides=(2, 2), padding='same')(conv5), conv4], axis=3)\n",
    "    conv6 = Conv2D(256, (3, 3), activation='relu', padding='same')(up6)\n",
    "    conv6 = Conv2D(256, (3, 3), activation='relu', padding='same')(conv6)\n",
    "\n",
    "    up7 = concatenate([Conv2DTranspose(128, (2, 2), strides=(2, 2), padding='same')(conv6), conv3], axis=3)\n",
    "    #up7 = concatenate([Conv2DTranspose(128, (2, 2), strides=(2, 2), padding='same')(conv4), conv3], axis=3)\n",
    "    conv7 = Conv2D(128, (3, 3), activation='relu', padding='same')(up7)\n",
    "    conv7 = Conv2D(128, (3, 3), activation='relu', padding='same')(conv7)\n",
    "\n",
    "    up8 = concatenate([Conv2DTranspose(64, (2, 2), strides=(2, 2), padding='same')(conv7), conv2], axis=3)\n",
    "    conv8 = Conv2D(64, (3, 3), activation='relu', padding='same')(up8)\n",
    "    conv8 = Conv2D(64, (3, 3), activation='relu', padding='same')(conv8)\n",
    "\n",
    "    up9 = concatenate([Conv2DTranspose(32, (2, 2), strides=(2, 2), padding='same')(conv8), conv1], axis=3)\n",
    "    conv9 = Conv2D(32, (3, 3), activation='relu', padding='same')(up9)\n",
    "    conv9 = Conv2D(32, (3, 3), activation='relu', padding='same')(conv9)\n",
    "\n",
    "    conv10 = Conv2D(1, (1, 1), activation='sigmoid')(conv9)\n",
    "\n",
    "    model = Model(inputs=[inputs], outputs=[conv10])\n",
    "\n",
    "    return model"
   ]
  },
  {
   "cell_type": "code",
   "execution_count": 22,
   "id": "27fdaeba-3c8c-4bd0-8677-f30dd53093f2",
   "metadata": {
    "tags": []
   },
   "outputs": [
    {
     "name": "stderr",
     "output_type": "stream",
     "text": [
      "2023-01-31 14:36:55.896018: I tensorflow/core/platform/cpu_feature_guard.cc:142] This TensorFlow binary is optimized with oneAPI Deep Neural Network Library (oneDNN) to use the following CPU instructions in performance-critical operations:  SSE4.1 SSE4.2 AVX AVX2 FMA\n",
      "To enable them in other operations, rebuild TensorFlow with the appropriate compiler flags.\n"
     ]
    },
    {
     "name": "stdout",
     "output_type": "stream",
     "text": [
      "Model: \"model\"\n",
      "__________________________________________________________________________________________________\n",
      "Layer (type)                    Output Shape         Param #     Connected to                     \n",
      "==================================================================================================\n",
      "input_1 (InputLayer)            [(None, 32, 32, 1)]  0                                            \n",
      "__________________________________________________________________________________________________\n",
      "conv2d (Conv2D)                 (None, 32, 32, 32)   320         input_1[0][0]                    \n",
      "__________________________________________________________________________________________________\n",
      "conv2d_1 (Conv2D)               (None, 32, 32, 32)   9248        conv2d[0][0]                     \n",
      "__________________________________________________________________________________________________\n",
      "max_pooling2d (MaxPooling2D)    (None, 16, 16, 32)   0           conv2d_1[0][0]                   \n",
      "__________________________________________________________________________________________________\n",
      "conv2d_2 (Conv2D)               (None, 16, 16, 64)   18496       max_pooling2d[0][0]              \n",
      "__________________________________________________________________________________________________\n",
      "conv2d_3 (Conv2D)               (None, 16, 16, 64)   36928       conv2d_2[0][0]                   \n",
      "__________________________________________________________________________________________________\n",
      "max_pooling2d_1 (MaxPooling2D)  (None, 8, 8, 64)     0           conv2d_3[0][0]                   \n",
      "__________________________________________________________________________________________________\n",
      "conv2d_4 (Conv2D)               (None, 8, 8, 128)    73856       max_pooling2d_1[0][0]            \n",
      "__________________________________________________________________________________________________\n",
      "conv2d_5 (Conv2D)               (None, 8, 8, 128)    147584      conv2d_4[0][0]                   \n",
      "__________________________________________________________________________________________________\n",
      "max_pooling2d_2 (MaxPooling2D)  (None, 4, 4, 128)    0           conv2d_5[0][0]                   \n",
      "__________________________________________________________________________________________________\n",
      "conv2d_6 (Conv2D)               (None, 4, 4, 256)    295168      max_pooling2d_2[0][0]            \n",
      "__________________________________________________________________________________________________\n",
      "conv2d_7 (Conv2D)               (None, 4, 4, 256)    590080      conv2d_6[0][0]                   \n",
      "__________________________________________________________________________________________________\n",
      "max_pooling2d_3 (MaxPooling2D)  (None, 2, 2, 256)    0           conv2d_7[0][0]                   \n",
      "__________________________________________________________________________________________________\n",
      "conv2d_8 (Conv2D)               (None, 2, 2, 512)    1180160     max_pooling2d_3[0][0]            \n",
      "__________________________________________________________________________________________________\n",
      "conv2d_9 (Conv2D)               (None, 2, 2, 512)    2359808     conv2d_8[0][0]                   \n",
      "__________________________________________________________________________________________________\n",
      "conv2d_transpose (Conv2DTranspo (None, 4, 4, 256)    524544      conv2d_9[0][0]                   \n",
      "__________________________________________________________________________________________________\n",
      "concatenate (Concatenate)       (None, 4, 4, 512)    0           conv2d_transpose[0][0]           \n",
      "                                                                 conv2d_7[0][0]                   \n",
      "__________________________________________________________________________________________________\n",
      "conv2d_10 (Conv2D)              (None, 4, 4, 256)    1179904     concatenate[0][0]                \n",
      "__________________________________________________________________________________________________\n",
      "conv2d_11 (Conv2D)              (None, 4, 4, 256)    590080      conv2d_10[0][0]                  \n",
      "__________________________________________________________________________________________________\n",
      "conv2d_transpose_1 (Conv2DTrans (None, 8, 8, 128)    131200      conv2d_11[0][0]                  \n",
      "__________________________________________________________________________________________________\n",
      "concatenate_1 (Concatenate)     (None, 8, 8, 256)    0           conv2d_transpose_1[0][0]         \n",
      "                                                                 conv2d_5[0][0]                   \n",
      "__________________________________________________________________________________________________\n",
      "conv2d_12 (Conv2D)              (None, 8, 8, 128)    295040      concatenate_1[0][0]              \n",
      "__________________________________________________________________________________________________\n",
      "conv2d_13 (Conv2D)              (None, 8, 8, 128)    147584      conv2d_12[0][0]                  \n",
      "__________________________________________________________________________________________________\n",
      "conv2d_transpose_2 (Conv2DTrans (None, 16, 16, 64)   32832       conv2d_13[0][0]                  \n",
      "__________________________________________________________________________________________________\n",
      "concatenate_2 (Concatenate)     (None, 16, 16, 128)  0           conv2d_transpose_2[0][0]         \n",
      "                                                                 conv2d_3[0][0]                   \n",
      "__________________________________________________________________________________________________\n",
      "conv2d_14 (Conv2D)              (None, 16, 16, 64)   73792       concatenate_2[0][0]              \n",
      "__________________________________________________________________________________________________\n",
      "conv2d_15 (Conv2D)              (None, 16, 16, 64)   36928       conv2d_14[0][0]                  \n",
      "__________________________________________________________________________________________________\n",
      "conv2d_transpose_3 (Conv2DTrans (None, 32, 32, 32)   8224        conv2d_15[0][0]                  \n",
      "__________________________________________________________________________________________________\n",
      "concatenate_3 (Concatenate)     (None, 32, 32, 64)   0           conv2d_transpose_3[0][0]         \n",
      "                                                                 conv2d_1[0][0]                   \n",
      "__________________________________________________________________________________________________\n",
      "conv2d_16 (Conv2D)              (None, 32, 32, 32)   18464       concatenate_3[0][0]              \n",
      "__________________________________________________________________________________________________\n",
      "conv2d_17 (Conv2D)              (None, 32, 32, 32)   9248        conv2d_16[0][0]                  \n",
      "__________________________________________________________________________________________________\n",
      "conv2d_18 (Conv2D)              (None, 32, 32, 1)    33          conv2d_17[0][0]                  \n",
      "==================================================================================================\n",
      "Total params: 7,759,521\n",
      "Trainable params: 7,759,521\n",
      "Non-trainable params: 0\n",
      "__________________________________________________________________________________________________\n"
     ]
    }
   ],
   "source": [
    "m = get_unet(32,32)\n",
    "m.summary()"
   ]
  },
  {
   "cell_type": "code",
   "execution_count": 23,
   "id": "complimentary-convergence",
   "metadata": {
    "tags": []
   },
   "outputs": [],
   "source": [
    "from tensorflow.python.keras.metrics import Metric\n",
    "def train_unet(train_data, label_data,weights_out,pretrained = None,no_epoch = 5, batch_sz= 10,val_split=0.2,learnrate=1e-4):\n",
    "    print('-'*30)\n",
    "    print('Loading and preprocessing train data...')\n",
    "    print('Creating and compiling model...')\n",
    "    print('-'*30)\n",
    "    model = get_unet()\n",
    "    #model = get_unet_small()\n",
    "    if pretrained != None:\n",
    "        model.load_weights(pretrained)\n",
    "    model.compile(optimizer=Adam(learning_rate=learnrate), loss=dice_coef_loss, metrics=[dice_coef])\n",
    "    #model.compile(optimizer='sgd',loss='mse',metrics=[Metric.BinaryIoU(target_class_id=[1], threshold=0.5)])\n",
    "    model_checkpoint = ModelCheckpoint(weights_out, monitor='val_loss', save_best_only=True)\n",
    "    #Saving the weights and the loss of the best predictions we obtained\n",
    "\n",
    "    print('-'*30)\n",
    "    print('Fitting model...')\n",
    "    print('-'*30)\n",
    "    history=model.fit(train_data, label_data, batch_size=batch_sz, epochs=no_epoch, verbose=1, shuffle=True,\n",
    "              validation_split=val_split,\n",
    "              callbacks=[model_checkpoint])\n",
    "    return model,history"
   ]
  },
  {
   "cell_type": "code",
   "execution_count": 35,
   "id": "1e77d547-1ce5-4d25-9c13-5638fdc4babd",
   "metadata": {
    "tags": []
   },
   "outputs": [
    {
     "name": "stdout",
     "output_type": "stream",
     "text": [
      "------------------------------\n",
      "Loading and preprocessing train data...\n",
      "Creating and compiling model...\n",
      "------------------------------\n",
      "------------------------------\n",
      "Fitting model...\n",
      "------------------------------\n",
      "Epoch 1/10\n",
      "9/9 [==============================] - 9s 816ms/step - loss: -0.5005 - dice_coef: 0.5005 - val_loss: -0.5755 - val_dice_coef: 0.5755\n",
      "Epoch 2/10\n",
      "9/9 [==============================] - 7s 786ms/step - loss: -0.5971 - dice_coef: 0.5971 - val_loss: -0.5933 - val_dice_coef: 0.5933\n",
      "Epoch 3/10\n",
      "9/9 [==============================] - 7s 787ms/step - loss: -0.6354 - dice_coef: 0.6354 - val_loss: -0.6760 - val_dice_coef: 0.6760\n",
      "Epoch 4/10\n",
      "9/9 [==============================] - 7s 774ms/step - loss: -0.8061 - dice_coef: 0.8061 - val_loss: -0.7832 - val_dice_coef: 0.7832\n",
      "Epoch 5/10\n",
      "9/9 [==============================] - 7s 768ms/step - loss: -0.8123 - dice_coef: 0.8123 - val_loss: -0.8048 - val_dice_coef: 0.8048\n",
      "Epoch 6/10\n",
      "9/9 [==============================] - 7s 789ms/step - loss: -0.8747 - dice_coef: 0.8747 - val_loss: -0.8958 - val_dice_coef: 0.8958\n",
      "Epoch 7/10\n",
      "9/9 [==============================] - 7s 780ms/step - loss: -0.9082 - dice_coef: 0.9082 - val_loss: -0.8686 - val_dice_coef: 0.8686\n",
      "Epoch 8/10\n",
      "9/9 [==============================] - 7s 775ms/step - loss: -0.9104 - dice_coef: 0.9104 - val_loss: -0.9319 - val_dice_coef: 0.9319\n",
      "Epoch 9/10\n",
      "9/9 [==============================] - 7s 774ms/step - loss: -0.9034 - dice_coef: 0.9034 - val_loss: -0.8724 - val_dice_coef: 0.8724\n",
      "Epoch 10/10\n",
      "9/9 [==============================] - 7s 775ms/step - loss: -0.9133 - dice_coef: 0.9133 - val_loss: -0.8857 - val_dice_coef: 0.8857\n"
     ]
    }
   ],
   "source": [
    "#train the model\n",
    "model, hist = train_unet(datas[0:500],labels[0:500],batch_sz=50,weights_out='weights_dense_small_withbg_test.h5',val_split=0.1,no_epoch = \n",
    "                            10,learnrate=1e-3)"
   ]
  },
  {
   "cell_type": "code",
   "execution_count": 36,
   "id": "0387f9cc-7293-45c5-bfdb-50fc7d0bb7fe",
   "metadata": {},
   "outputs": [
    {
     "data": {
      "image/png": "[encoded data removed]",
      "text/plain": [
       "<Figure size 432x288 with 1 Axes>"
      ]
     },
     "metadata": {
      "needs_background": "light"
     },
     "output_type": "display_data"
    }
   ],
   "source": [
    "#plot model learning curves\n",
    "hist_plot(hist)"
   ]
  },
  {
   "cell_type": "code",
   "execution_count": 37,
   "id": "49bcf262-2666-4aa3-8680-e7aaee74c6ab",
   "metadata": {
    "tags": []
   },
   "outputs": [],
   "source": [
    "#load model for prediction and applying\n",
    "def load_model(weights_in):\n",
    "    model = get_unet()\n",
    "    #model = get_unet_small()\n",
    "    #model = get_unet_23()\n",
    "    model.load_weights(weights_in)\n",
    "    #model.summary()\n",
    "    return model"
   ]
  },
  {
   "cell_type": "code",
   "execution_count": 38,
   "id": "located-charleston",
   "metadata": {
    "tags": []
   },
   "outputs": [],
   "source": [
    "def predict_unet(test_data, test_labels,weights_in,test_label_outfile=None,pred_dir=None):\n",
    "    print('-'*30)\n",
    "    print('Loading and preprocessing test data...')\n",
    "    print('-'*30)\n",
    "    print('Loading saved weights...')\n",
    "    print('-'*30)\n",
    "    model = load_model(weights_in)\n",
    "    print('-'*30)\n",
    "    print('Predicting masks on test data...')\n",
    "    print('-'*30)\n",
    "    imgs_label_test = model.predict(test_data, verbose=1)\n",
    "    #print(model.evaluate(test_data,test_labels))\n",
    "    if test_label_outfile:   \n",
    "        np.save(test_label_outfile, imgs_label_test)\n",
    "        print('-' * 30)\n",
    "        print('Saving predicted masks to files...')\n",
    "        print('-' * 30)\n",
    "    if pred_dir:  \n",
    "        if not os.path.exists(pred_dir):\n",
    "            os.mkdir(pred_dir)\n",
    "        for k in range(len(imgs_label_test)):  \n",
    "            a=rescale_intensity(test_data[k][:,:,0],out_range=(-1,1))\n",
    "            b=(imgs_label_test[k][:,:,0]).astype('uint8')\n",
    "            io.imsave(os.path.join(pred_dir, str(k) + '_pred.png'),mark_boundaries(a,b))\n",
    "    return imgs_label_test\n",
    "        \n",
    "            #Saving our predictions in the directory 'pred_dir'\n",
    "    "
   ]
  },
  {
   "cell_type": "code",
   "execution_count": 39,
   "id": "9f70bde7-f635-4e3c-b146-48427ca19f21",
   "metadata": {
    "tags": []
   },
   "outputs": [
    {
     "name": "stdout",
     "output_type": "stream",
     "text": [
      "1335 particles loaded, 1335 in training set, 0 in validation set\n",
      "(1335, 256, 256)\n",
      "Std of particles:  0.86517984\n"
     ]
    }
   ],
   "source": [
    "#load test data\n",
    "test_data,test_label,shape,ntrain = load_particles('dense_256.hdf',1,ncopy=1)"
   ]
  },
  {
   "cell_type": "code",
   "execution_count": 41,
   "id": "fef20e43-6c94-4fa4-907f-962d7f602e52",
   "metadata": {
    "tags": []
   },
   "outputs": [
    {
     "name": "stdout",
     "output_type": "stream",
     "text": [
      "------------------------------\n",
      "Loading and preprocessing test data...\n",
      "------------------------------\n",
      "Loading saved weights...\n",
      "------------------------------\n",
      "------------------------------\n",
      "Predicting masks on test data...\n",
      "------------------------------\n",
      "4/4 [==============================] - 15s 3s/step\n"
     ]
    }
   ],
   "source": [
    "#predict label on test data\n",
    "predicted = predict_unet(test_data[0:100], test_label[0:100],weights_in='weights_dense_small_withbg_test.h5')"
   ]
  },
  {
   "cell_type": "code",
   "execution_count": 42,
   "id": "44db9506-fc45-4d37-b932-1cee27e5c54f",
   "metadata": {
    "tags": []
   },
   "outputs": [],
   "source": [
    "#write the test data, label and predicted stack to hdf5 to visualize in EMAN2\n",
    "stack_outfile(test_data.squeeze(),test_label,predicted.squeeze(),outfile=\"dense_train_on_small_withbg_test.hdf\")"
   ]
  },
  {
   "cell_type": "code",
   "execution_count": 43,
   "id": "206f8fc6-b0a5-48dc-9165-366a8d0786c4",
   "metadata": {
    "tags": []
   },
   "outputs": [],
   "source": [
    "#apply the trained unet on a tomogram\n",
    "def apply_unet(weights_in=None,tomogram=None,outfile=None):\n",
    "    if tomogram==None:\n",
    "        print(\"Need to specify tomogram to apply U-net\")\n",
    "        return\n",
    "    if weights_in==None:\n",
    "        print(\"Need to provide weights of U-net\")\n",
    "        return\n",
    "    model = load_model(weights_in)\n",
    "    \n",
    "    nframe=EMUtil.get_image_count(tomogram)\n",
    "    is3d=False\n",
    "    ### deal with 3D volume or image stack\n",
    "    e=EMData(tomogram, 0, True)\n",
    "    apix=e[\"apix_x\"]\n",
    "    if nframe==1:\n",
    "        nframe=e[\"nz\"]\n",
    "        if nframe>1:\n",
    "        #### input data is 3D volume\n",
    "            is3d=True\n",
    "\n",
    "    enx,eny=e[\"nx\"], e[\"ny\"]\n",
    "    tsz=max(enx,eny)\n",
    "\n",
    "    output=EMData(e[\"nx\"], e[\"ny\"], nframe)\n",
    "    output[\"tomogram_src\"]=tomogram\n",
    "    #output[\"nnet_src\"]=options.from_trained\n",
    "    output[\"apix_x\"]=apix\n",
    "    output[\"apix_y\"]=apix\n",
    "    output[\"apix_z\"]=apix\n",
    "\n",
    "    print(\"Loading tomogram...\")\n",
    "    tomo_in=[]\n",
    "    for nf in range(nframe):\n",
    "        if is3d:          \n",
    "            e0=EMData(tomogram, 0, False, Region((enx-tsz)//2,(eny-tsz)//2,nf,tsz,tsz,1))\n",
    "        else:\n",
    "            e0=EMData(tomogram, nf, False, Region((enx-tsz)//2,(eny-tsz)//2,tsz,tsz))\n",
    "        tomo_in.append(e0)\n",
    "    print(len(tomo_in))\n",
    "    for idx, img in enumerate(tomo_in):\n",
    "        if idx == 123:\n",
    "            plt.imshow(tomo_in[idx].numpy())\n",
    "        m=img.numpy()\n",
    "        p=model.predict(m[None, :, :, None]/3.,verbose=1)\n",
    "        #p[p<0]=0\n",
    "        cout=from_numpy(p[0,:,:,0])\n",
    "        cout=cout.get_clip(Region((cout[\"nx\"]-enx)//2,(cout[\"ny\"]-eny)//2 ,enx, eny))\n",
    "        #cout.scale(int(options.labelshrink))\n",
    "        output.insert_clip(cout, [0,0,idx])\n",
    "\n",
    "        sys.stdout.write(\"\\r  {}/{} finished.\".format(idx+1, len(tomo_in)))\n",
    "        sys.stdout.flush()\n",
    "    if outfile:\n",
    "        output.write_image(outfile)\n",
    "    return output"
   ]
  },
  {
   "cell_type": "code",
   "execution_count": 44,
   "id": "cfe1b596-cd10-4680-8852-1c12895d99f0",
   "metadata": {
    "tags": []
   },
   "outputs": [],
   "source": [
    "#save np segment map\n",
    "def save_segment_map(weights_in=None,tomogram=None,outfile=\"\"):\n",
    "    output = apply_unet(weights_in,tomogram)\n",
    "    c_out = to_numpy(output) \n",
    "    print(c_out.shape())\n",
    "    np.save(outfile, c_out)"
   ]
  },
  {
   "cell_type": "code",
   "execution_count": 45,
   "id": "cb9d998f-005d-4f0a-9c46-4bba15101918",
   "metadata": {
    "tags": []
   },
   "outputs": [
    {
     "name": "stdout",
     "output_type": "stream",
     "text": [
      "Loading tomogram...\n",
      "10\n",
      "1/1 [==============================] - 3s 3s/step\n",
      "1/1 [==============================] - 2s 2s/step\n",
      "1/1 [==============================] - 2s 2s/step\n",
      "1/1 [==============================] - 2s 2s/step\n",
      "1/1 [==============================] - 2s 2s/step\n",
      "1/1 [==============================] - 2s 2s/step\n",
      "1/1 [==============================] - 2s 2s/step\n",
      "1/1 [==============================] - 2s 2s/step\n",
      "1/1 [==============================] - 2s 2s/step\n",
      "1/1 [==============================] - 2s 2s/step\n",
      "  10/10 finished."
     ]
    }
   ],
   "source": [
    "#apply trained unet on tomogram\n",
    "outmap = apply_unet(weights_in='weights_dense_small_withbg_test.h5',tomogram='set24_tomo.hdf',\n",
    "                    outfile='set24_tomo__test_seg.hdf')"
   ]
  },
  {
   "cell_type": "code",
   "execution_count": null,
   "id": "14038b16-568c-4d92-87d2-eafc99ec7e09",
   "metadata": {},
   "outputs": [],
   "source": []
  }
 ],
 "metadata": {
  "kernelspec": {
   "display_name": "Python 3 (ipykernel)",
   "language": "python",
   "name": "python3"
  },
  "language_info": {
   "codemirror_mode": {
    "name": "ipython",
    "version": 3
   },
   "file_extension": ".py",
   "mimetype": "text/x-python",
   "name": "python",
   "nbconvert_exporter": "python",
   "pygments_lexer": "ipython3",
   "version": "3.9.10"
  }
 },
 "nbformat": 4,
 "nbformat_minor": 5
}
